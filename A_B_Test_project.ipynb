{
 "cells": [
  {
   "cell_type": "markdown",
   "metadata": {},
   "source": [
    "# A/B Test project\n",
    "\n",
    "This project was completed on behalf of an online store. \n",
    "Collaboration with the marketing department resulted in the development of several hypotheses that are meant to increase sales. Using the ICE and RICE procedures, we will organize the hypotheses according to importance.\n",
    "Based on the outcomes, we will find the hypothesis with the greatest scores and select the most promising one.\n",
    "\n",
    "In the second part of the project, we will run an A/B test to compare the conversion ratios across the groups, the relative variations in conversion rates by customer, the typical purchase size, and other variables."
   ]
  },
  {
   "cell_type": "markdown",
   "metadata": {},
   "source": [
    "### Table of Content\n",
    "\n",
    "[**Step 1: Importing Libraries**](#1)\n",
    "\n",
    "[**Step 2:  Prioritizing Hepotheses**](#2)\n",
    "* [Hypothesis Preview](#3)\n",
    "* [Lower Case & String Replace Columns](#4)\n",
    "* [Ice & Rice Calculations](#5)\n",
    "* [Insights](#6)\n",
    "\n",
    "[**Step 3: A/B Test Analysis**](#7)\n",
    "* [\"Orders\" Data Set: Preiview](#8)\n",
    "* [Transforming 'date' Column](#9)\n",
    "* [Checking Missing Values & Data Inconsistency](#10)\n",
    "* [Center location & Dispersion Indicies](#11)\n",
    "* [Test Preperations: Creating Groups](#12)\n",
    "* [\"Visits\" Data Set: Preview](#13)\n",
    "* [Transforming 'date' Column](#14)\n",
    "* [Checking Missing Values & Data Inconsistency](#15)\n",
    "* [Test Preperations: Aggregated Data From Visits](#16)\n",
    "* [Merging Aggregated Data Frames](#17)\n",
    "* [Step 3: Summary](#18)\n",
    "\n",
    "[**Step 4: Visualizing A/B Test Results**](#19)\n",
    "* [Cumulative Revenue By Group](#20)\n",
    "* [Cumulative Average Order Size By Group](#21)\n",
    "* [Relative Difference: Average Purchase Size](#22)\n",
    "* [Conversion Rate By Day](#23)\n",
    "* [Relative Difference: Conversion Rate](#24)\n",
    "* [Orders Per User](#25)\n",
    "* [Order Price Distribution](#26)\n",
    "* [Raw Data Comparison: Statistical Significance of Conversion Difference between Groups](#27)\n",
    "* [Filtered Data Comparison: Statistical Significance of Conversion Difference between Groups](#28)\n",
    "* [Proportion Equality Test](#29)\n",
    "* [Daily Conversion Equality Test](#30)\n",
    "* [Average Check](#31)\n",
    "* [Filtered vs Raw Data Tests: Average Purchase Size](#32)\n",
    "\n",
    "[**Final Conclusions**](#33)"
   ]
  },
  {
   "cell_type": "markdown",
   "metadata": {},
   "source": [
    "<a id=\"1\"></a>"
   ]
  },
  {
   "cell_type": "markdown",
   "metadata": {},
   "source": [
    "### Importing Libraries"
   ]
  },
  {
   "cell_type": "code",
   "execution_count": 91,
   "metadata": {},
   "outputs": [],
   "source": [
    "import warnings\n",
    "warnings.simplefilter(action='ignore', category=FutureWarning)\n",
    "pd.options.mode.chained_assignment = None\n",
    "import pandas as pd\n",
    "import datetime as dt\n",
    "import numpy as np\n",
    "import matplotlib.pyplot as plt\n",
    "from scipy import stats\n",
    "import math as mth\n",
    "import random\n",
    "\n",
    "# Setting a wide display of the column width (displaying full strings of the hepotheses sentences):\n",
    "\n",
    "pd.set_option('display.max_colwidth', -1)"
   ]
  },
  {
   "cell_type": "markdown",
   "metadata": {},
   "source": [
    "### Prioritizing hypotheses"
   ]
  },
  {
   "cell_type": "markdown",
   "metadata": {},
   "source": [
    "<a id=\"2\"></a>"
   ]
  },
  {
   "cell_type": "code",
   "execution_count": 3,
   "metadata": {},
   "outputs": [],
   "source": [
    "try:\n",
    "    hypotheses=pd.read_csv(\"/Users/ohayo/Desktop/Data/hypotheses_us.csv\", sep=';', dtype={'Hypothesis': 'category'})\n",
    "    orders=pd.read_csv(\"/Users/ohayo/Desktop/Data/orders_us.csv\")\n",
    "    visits=pd.read_csv(\"/Users/ohayo/Desktop/Data/visits_us.csv\")\n",
    "except:\n",
    "    hypotheses=pd.read_csv(\"/datasets/hypotheses_us.csv\", sep=';', dtype={'Hypothesis': 'category'})\n",
    "    orders=pd.read_csv(\"/datasets/orders_us.csv\")\n",
    "    visits=pd.read_csv(\"/datasets/visits_us.csv\")"
   ]
  },
  {
   "cell_type": "markdown",
   "metadata": {},
   "source": [
    "#### Hypothesis Preview"
   ]
  },
  {
   "cell_type": "markdown",
   "metadata": {},
   "source": [
    "<a id=\"3\"></a>"
   ]
  },
  {
   "cell_type": "code",
   "execution_count": 103,
   "metadata": {},
   "outputs": [
    {
     "name": "stdout",
     "output_type": "stream",
     "text": [
      "<class 'pandas.core.frame.DataFrame'>\n",
      "RangeIndex: 9 entries, 0 to 8\n",
      "Data columns (total 7 columns):\n",
      " #   Column      Non-Null Count  Dtype   \n",
      "---  ------      --------------  -----   \n",
      " 0   hypothesis  9 non-null      category\n",
      " 1   reach       9 non-null      int64   \n",
      " 2   impact      9 non-null      int64   \n",
      " 3   confidence  9 non-null      int64   \n",
      " 4   effort      9 non-null      int64   \n",
      " 5   ICE         9 non-null      float64 \n",
      " 6   RICE        9 non-null      float64 \n",
      "dtypes: category(1), float64(2), int64(4)\n",
      "memory usage: 2.1 KB\n"
     ]
    },
    {
     "data": {
      "text/plain": [
       "None"
      ]
     },
     "metadata": {},
     "output_type": "display_data"
    },
    {
     "data": {
      "text/html": [
       "<div>\n",
       "<style scoped>\n",
       "    .dataframe tbody tr th:only-of-type {\n",
       "        vertical-align: middle;\n",
       "    }\n",
       "\n",
       "    .dataframe tbody tr th {\n",
       "        vertical-align: top;\n",
       "    }\n",
       "\n",
       "    .dataframe thead th {\n",
       "        text-align: right;\n",
       "    }\n",
       "</style>\n",
       "<table border=\"1\" class=\"dataframe\">\n",
       "  <thead>\n",
       "    <tr style=\"text-align: right;\">\n",
       "      <th></th>\n",
       "      <th>hypothesis</th>\n",
       "      <th>reach</th>\n",
       "      <th>impact</th>\n",
       "      <th>confidence</th>\n",
       "      <th>effort</th>\n",
       "      <th>ICE</th>\n",
       "      <th>RICE</th>\n",
       "    </tr>\n",
       "  </thead>\n",
       "  <tbody>\n",
       "    <tr>\n",
       "      <th>0</th>\n",
       "      <td>Add two new channels for attracting traffic. This will bring 30% more users</td>\n",
       "      <td>3</td>\n",
       "      <td>10</td>\n",
       "      <td>8</td>\n",
       "      <td>6</td>\n",
       "      <td>13.0</td>\n",
       "      <td>40.0</td>\n",
       "    </tr>\n",
       "    <tr>\n",
       "      <th>1</th>\n",
       "      <td>Launch your own delivery service. This will shorten delivery time</td>\n",
       "      <td>2</td>\n",
       "      <td>5</td>\n",
       "      <td>4</td>\n",
       "      <td>10</td>\n",
       "      <td>2.0</td>\n",
       "      <td>4.0</td>\n",
       "    </tr>\n",
       "    <tr>\n",
       "      <th>2</th>\n",
       "      <td>Add product recommendation blocks to the store's site. This will increase conversion and average purchase size</td>\n",
       "      <td>8</td>\n",
       "      <td>3</td>\n",
       "      <td>7</td>\n",
       "      <td>3</td>\n",
       "      <td>7.0</td>\n",
       "      <td>56.0</td>\n",
       "    </tr>\n",
       "    <tr>\n",
       "      <th>3</th>\n",
       "      <td>Change the category structure. This will increase conversion since users will find the products they want more quickly</td>\n",
       "      <td>8</td>\n",
       "      <td>3</td>\n",
       "      <td>3</td>\n",
       "      <td>8</td>\n",
       "      <td>1.0</td>\n",
       "      <td>9.0</td>\n",
       "    </tr>\n",
       "    <tr>\n",
       "      <th>4</th>\n",
       "      <td>Change the background color on the main page. This will increase user engagement</td>\n",
       "      <td>3</td>\n",
       "      <td>1</td>\n",
       "      <td>1</td>\n",
       "      <td>1</td>\n",
       "      <td>1.0</td>\n",
       "      <td>3.0</td>\n",
       "    </tr>\n",
       "    <tr>\n",
       "      <th>5</th>\n",
       "      <td>Add a customer review page. This will increase the number of orders</td>\n",
       "      <td>3</td>\n",
       "      <td>2</td>\n",
       "      <td>2</td>\n",
       "      <td>3</td>\n",
       "      <td>1.0</td>\n",
       "      <td>4.0</td>\n",
       "    </tr>\n",
       "    <tr>\n",
       "      <th>6</th>\n",
       "      <td>Show banners with current offers and sales on the main page. This will boost conversion</td>\n",
       "      <td>5</td>\n",
       "      <td>3</td>\n",
       "      <td>8</td>\n",
       "      <td>3</td>\n",
       "      <td>8.0</td>\n",
       "      <td>40.0</td>\n",
       "    </tr>\n",
       "    <tr>\n",
       "      <th>7</th>\n",
       "      <td>Add a subscription form to all the main pages. This will help you compile a mailing list</td>\n",
       "      <td>10</td>\n",
       "      <td>7</td>\n",
       "      <td>8</td>\n",
       "      <td>5</td>\n",
       "      <td>11.0</td>\n",
       "      <td>112.0</td>\n",
       "    </tr>\n",
       "    <tr>\n",
       "      <th>8</th>\n",
       "      <td>Launch a promotion that gives users discounts on their birthdays</td>\n",
       "      <td>1</td>\n",
       "      <td>9</td>\n",
       "      <td>9</td>\n",
       "      <td>5</td>\n",
       "      <td>16.0</td>\n",
       "      <td>16.2</td>\n",
       "    </tr>\n",
       "  </tbody>\n",
       "</table>\n",
       "</div>"
      ],
      "text/plain": [
       "                                                                                                               hypothesis  \\\n",
       "0  Add two new channels for attracting traffic. This will bring 30% more users                                              \n",
       "1  Launch your own delivery service. This will shorten delivery time                                                        \n",
       "2  Add product recommendation blocks to the store's site. This will increase conversion and average purchase size           \n",
       "3  Change the category structure. This will increase conversion since users will find the products they want more quickly   \n",
       "4  Change the background color on the main page. This will increase user engagement                                         \n",
       "5  Add a customer review page. This will increase the number of orders                                                      \n",
       "6  Show banners with current offers and sales on the main page. This will boost conversion                                  \n",
       "7  Add a subscription form to all the main pages. This will help you compile a mailing list                                 \n",
       "8  Launch a promotion that gives users discounts on their birthdays                                                         \n",
       "\n",
       "   reach  impact  confidence  effort   ICE   RICE  \n",
       "0  3      10      8           6       13.0  40.0   \n",
       "1  2      5       4           10      2.0   4.0    \n",
       "2  8      3       7           3       7.0   56.0   \n",
       "3  8      3       3           8       1.0   9.0    \n",
       "4  3      1       1           1       1.0   3.0    \n",
       "5  3      2       2           3       1.0   4.0    \n",
       "6  5      3       8           3       8.0   40.0   \n",
       "7  10     7       8           5       11.0  112.0  \n",
       "8  1      9       9           5       16.0  16.2   "
      ]
     },
     "metadata": {},
     "output_type": "display_data"
    }
   ],
   "source": [
    "# first glimpse of hypotheses by using info() & head() methods:\n",
    "\n",
    "display(hypotheses.info(memory_usage='deep'))\n",
    "display()\n",
    "display(hypotheses.head(9))"
   ]
  },
  {
   "cell_type": "markdown",
   "metadata": {},
   "source": [
    "#### Lower Case & String Replace: columns names"
   ]
  },
  {
   "cell_type": "code",
   "execution_count": 6,
   "metadata": {},
   "outputs": [],
   "source": [
    "hypotheses.columns=hypotheses.columns.str.lower()\n",
    "\n",
    "hypotheses.columns = hypotheses.columns.str.replace(' ', '_')"
   ]
  },
  {
   "cell_type": "markdown",
   "metadata": {},
   "source": [
    "<a id=\"4\"></a>"
   ]
  },
  {
   "cell_type": "markdown",
   "metadata": {},
   "source": [
    "#### Ice & Rice Calculations"
   ]
  },
  {
   "cell_type": "markdown",
   "metadata": {},
   "source": [
    "<a id=\"5\"></a>"
   ]
  },
  {
   "cell_type": "code",
   "execution_count": 7,
   "metadata": {},
   "outputs": [
    {
     "data": {
      "text/html": [
       "<div>\n",
       "<style scoped>\n",
       "    .dataframe tbody tr th:only-of-type {\n",
       "        vertical-align: middle;\n",
       "    }\n",
       "\n",
       "    .dataframe tbody tr th {\n",
       "        vertical-align: top;\n",
       "    }\n",
       "\n",
       "    .dataframe thead th {\n",
       "        text-align: right;\n",
       "    }\n",
       "</style>\n",
       "<table border=\"1\" class=\"dataframe\">\n",
       "  <thead>\n",
       "    <tr style=\"text-align: right;\">\n",
       "      <th></th>\n",
       "      <th>hypothesis</th>\n",
       "      <th>ICE</th>\n",
       "    </tr>\n",
       "  </thead>\n",
       "  <tbody>\n",
       "    <tr>\n",
       "      <th>8</th>\n",
       "      <td>Launch a promotion that gives users discounts ...</td>\n",
       "      <td>16.0</td>\n",
       "    </tr>\n",
       "    <tr>\n",
       "      <th>0</th>\n",
       "      <td>Add two new channels for attracting traffic. T...</td>\n",
       "      <td>13.0</td>\n",
       "    </tr>\n",
       "    <tr>\n",
       "      <th>7</th>\n",
       "      <td>Add a subscription form to all the main pages....</td>\n",
       "      <td>11.0</td>\n",
       "    </tr>\n",
       "    <tr>\n",
       "      <th>6</th>\n",
       "      <td>Show banners with current offers and sales on ...</td>\n",
       "      <td>8.0</td>\n",
       "    </tr>\n",
       "    <tr>\n",
       "      <th>2</th>\n",
       "      <td>Add product recommendation blocks to the store...</td>\n",
       "      <td>7.0</td>\n",
       "    </tr>\n",
       "    <tr>\n",
       "      <th>1</th>\n",
       "      <td>Launch your own delivery service. This will sh...</td>\n",
       "      <td>2.0</td>\n",
       "    </tr>\n",
       "    <tr>\n",
       "      <th>3</th>\n",
       "      <td>Change the category structure. This will incre...</td>\n",
       "      <td>1.0</td>\n",
       "    </tr>\n",
       "    <tr>\n",
       "      <th>4</th>\n",
       "      <td>Change the background color on the main page. ...</td>\n",
       "      <td>1.0</td>\n",
       "    </tr>\n",
       "    <tr>\n",
       "      <th>5</th>\n",
       "      <td>Add a customer review page. This will increase...</td>\n",
       "      <td>1.0</td>\n",
       "    </tr>\n",
       "  </tbody>\n",
       "</table>\n",
       "</div>"
      ],
      "text/plain": [
       "                                          hypothesis   ICE\n",
       "8  Launch a promotion that gives users discounts ...  16.0\n",
       "0  Add two new channels for attracting traffic. T...  13.0\n",
       "7  Add a subscription form to all the main pages....  11.0\n",
       "6  Show banners with current offers and sales on ...   8.0\n",
       "2  Add product recommendation blocks to the store...   7.0\n",
       "1  Launch your own delivery service. This will sh...   2.0\n",
       "3  Change the category structure. This will incre...   1.0\n",
       "4  Change the background color on the main page. ...   1.0\n",
       "5  Add a customer review page. This will increase...   1.0"
      ]
     },
     "metadata": {},
     "output_type": "display_data"
    },
    {
     "data": {
      "text/html": [
       "<div>\n",
       "<style scoped>\n",
       "    .dataframe tbody tr th:only-of-type {\n",
       "        vertical-align: middle;\n",
       "    }\n",
       "\n",
       "    .dataframe tbody tr th {\n",
       "        vertical-align: top;\n",
       "    }\n",
       "\n",
       "    .dataframe thead th {\n",
       "        text-align: right;\n",
       "    }\n",
       "</style>\n",
       "<table border=\"1\" class=\"dataframe\">\n",
       "  <thead>\n",
       "    <tr style=\"text-align: right;\">\n",
       "      <th></th>\n",
       "      <th>hypothesis</th>\n",
       "      <th>RICE</th>\n",
       "    </tr>\n",
       "  </thead>\n",
       "  <tbody>\n",
       "    <tr>\n",
       "      <th>7</th>\n",
       "      <td>Add a subscription form to all the main pages....</td>\n",
       "      <td>112.0</td>\n",
       "    </tr>\n",
       "    <tr>\n",
       "      <th>2</th>\n",
       "      <td>Add product recommendation blocks to the store...</td>\n",
       "      <td>56.0</td>\n",
       "    </tr>\n",
       "    <tr>\n",
       "      <th>0</th>\n",
       "      <td>Add two new channels for attracting traffic. T...</td>\n",
       "      <td>40.0</td>\n",
       "    </tr>\n",
       "    <tr>\n",
       "      <th>6</th>\n",
       "      <td>Show banners with current offers and sales on ...</td>\n",
       "      <td>40.0</td>\n",
       "    </tr>\n",
       "    <tr>\n",
       "      <th>8</th>\n",
       "      <td>Launch a promotion that gives users discounts ...</td>\n",
       "      <td>16.2</td>\n",
       "    </tr>\n",
       "    <tr>\n",
       "      <th>3</th>\n",
       "      <td>Change the category structure. This will incre...</td>\n",
       "      <td>9.0</td>\n",
       "    </tr>\n",
       "    <tr>\n",
       "      <th>1</th>\n",
       "      <td>Launch your own delivery service. This will sh...</td>\n",
       "      <td>4.0</td>\n",
       "    </tr>\n",
       "    <tr>\n",
       "      <th>5</th>\n",
       "      <td>Add a customer review page. This will increase...</td>\n",
       "      <td>4.0</td>\n",
       "    </tr>\n",
       "    <tr>\n",
       "      <th>4</th>\n",
       "      <td>Change the background color on the main page. ...</td>\n",
       "      <td>3.0</td>\n",
       "    </tr>\n",
       "  </tbody>\n",
       "</table>\n",
       "</div>"
      ],
      "text/plain": [
       "                                          hypothesis   RICE\n",
       "7  Add a subscription form to all the main pages....  112.0\n",
       "2  Add product recommendation blocks to the store...   56.0\n",
       "0  Add two new channels for attracting traffic. T...   40.0\n",
       "6  Show banners with current offers and sales on ...   40.0\n",
       "8  Launch a promotion that gives users discounts ...   16.2\n",
       "3  Change the category structure. This will incre...    9.0\n",
       "1  Launch your own delivery service. This will sh...    4.0\n",
       "5  Add a customer review page. This will increase...    4.0\n",
       "4  Change the background color on the main page. ...    3.0"
      ]
     },
     "metadata": {},
     "output_type": "display_data"
    }
   ],
   "source": [
    "# Calculating 'ICE' , Creating 'ICE' column, Displaying 'ICE' in decending order:\n",
    "hypotheses['ICE'] = (hypotheses['impact'] * (hypotheses['confidence']) / hypotheses['effort']).round(0)\n",
    "\n",
    "display(hypotheses[['hypothesis','ICE']].sort_values(by='ICE', ascending=False).head(10))\n",
    "\n",
    "# Calculating 'RICE' , Creating 'RICE' column, Displaying 'RICE' in decending order:\n",
    "hypotheses['RICE'] = (hypotheses['reach'] * hypotheses['impact'] * hypotheses['confidence']) / (hypotheses['effort']).round(0)\n",
    "\n",
    "display(hypotheses[['hypothesis','RICE']].sort_values(by='RICE', ascending=False).head(10))"
   ]
  },
  {
   "cell_type": "markdown",
   "metadata": {},
   "source": [
    "#### Insights: Step 2"
   ]
  },
  {
   "cell_type": "markdown",
   "metadata": {},
   "source": [
    "<a id=\"6\"></a>"
   ]
  },
  {
   "cell_type": "markdown",
   "metadata": {},
   "source": [
    "# Insights\n",
    "\n",
    "__The top five hypotheses in the ICE index are:__\n",
    "\n",
    "1.\"Launch a promotion that gives users discounts on their birthdays\": ICE score: 16.2\n",
    "\n",
    "2.\"Add two new channels for attracting traffic. This will bring 30% more users\": ICE score: 13.33.\n",
    "\n",
    "3.\"Add a subscription form to all the main pages. This will help you compile a mailing list\": ICE score: 11.2\n",
    "\n",
    "4.\"Show banners with current offers and sales on the main page. This will boost conversion\": ICE score: 8.\n",
    "\n",
    "5.\"Add product recommendation blocks to the store's site. This will increase conversion and average purchase size\":\n",
    "ICE score: 7.\n",
    "\n",
    "__The top five hypotheses in the RICE index are:__\n",
    "\n",
    "1.\"Add a subscription form to all the main pages. This will help you compile a mailing list\": RICE score: 112.2 .\n",
    "\n",
    "2.\"Add product recommendation blocks to the store's site. This will increase conversion and average purchase size\":\n",
    "RICE score: 56.\n",
    "\n",
    "3.\"Add two new channels for attracting traffic. This will bring 30% more users\": RICE score: 40.\n",
    "\n",
    "4.\"Show banners with current offers and sales on the main page. This will boost conversion\": RICE score: 40.\n",
    "\n",
    "5.\"Launch a promotion that gives users discounts on their birthdays\": RICE score: 16.2.\n",
    "\n",
    "__changes in prioritization in some of the hypothses__\n",
    "\n",
    "When looking at the different scors received by using the rice and ice methods, we see changes in the order of priority:\n",
    "\n",
    "The most significant change in the order of importance is affecting the hypothesis of __launching of a program that gives discounts on birthdays.__\n",
    "In the ICE index, this hypothesis received the highest score, while in the RICE index, it reached fifth place.\n",
    "The __reach__ of the hypothesis is __1__. And since RICE takes into account and evaluates the range customers wich a change would affect, it is not surprising that this hypothesis dropped 4 places in the order of priority.\n",
    "\n",
    "Why then did the hypothesis reach first place according to the ICE index?\n",
    "-Because the levels of __confidence__ in the change and the degree of its __impacts__ on the customers are high __(9)__.\n",
    "\n",
    "One hypothesis that received high ratings in both ICE and RICE is the hypothesis that __adding 2 new channels to attract customers will lead to a 30% increase in their quantity.__\n",
    "\n",
    "The hypothesis is ranked second in importance according to the ICE index and third in importance in the RICE index.\n",
    "\n",
    "The degree of __confidence__ in the change is among the highest in hypotheses __(8)__, and the degree of __impact__ is the highest __(10)__. Its __reach__ is __relatively low and stands at 3__. Since the degree of __efforts__ needed for change is __relatively high and stands at 6__, and combined with a low range of __reach__, the hypothesis does not occupy the first place in the __RICE__ index.\n",
    "\n",
    "Another hypothesis that received high ratings in both methods is the hypothesis that __\"adding a registration form to all the main pages will help us in creating a mailing list.__\n",
    "\n",
    "ICE scored this hypothesis with __11.2__ and it is in third place according to the method. On the other hand, in the RICE method, which takes into account the reach to customers, this hypothesis receives the highest rating and by a considerable margin from the rest of the hypotheses with a score of __112__.\n",
    "\n",
    "This is not surprising since the __reach__ of the change is __10__ and is the highest among the hypotheses.\n",
    "The degree of __impact__ and the level of __confidence__ in the change are also relatively high, while the degree of __effort__ is moderate (5)."
   ]
  },
  {
   "cell_type": "markdown",
   "metadata": {},
   "source": [
    "<a id=\"7\"></a>"
   ]
  },
  {
   "cell_type": "markdown",
   "metadata": {},
   "source": [
    "### A/B Test Analysis"
   ]
  },
  {
   "cell_type": "markdown",
   "metadata": {},
   "source": [
    "<a id=\"8\"></a>"
   ]
  },
  {
   "cell_type": "markdown",
   "metadata": {},
   "source": [
    "#### \"Orders\" Data Set:  Preiview"
   ]
  },
  {
   "cell_type": "code",
   "execution_count": 8,
   "metadata": {},
   "outputs": [
    {
     "name": "stdout",
     "output_type": "stream",
     "text": [
      "<class 'pandas.core.frame.DataFrame'>\n",
      "RangeIndex: 1197 entries, 0 to 1196\n",
      "Data columns (total 5 columns):\n",
      " #   Column         Non-Null Count  Dtype  \n",
      "---  ------         --------------  -----  \n",
      " 0   transactionId  1197 non-null   int64  \n",
      " 1   visitorId      1197 non-null   int64  \n",
      " 2   date           1197 non-null   object \n",
      " 3   revenue        1197 non-null   float64\n",
      " 4   group          1197 non-null   object \n",
      "dtypes: float64(1), int64(2), object(2)\n",
      "memory usage: 174.3 KB\n"
     ]
    },
    {
     "data": {
      "text/plain": [
       "None"
      ]
     },
     "metadata": {},
     "output_type": "display_data"
    }
   ],
   "source": [
    "# chacking order's info:\n",
    "\n",
    "display(orders.info(memory_usage='deep'))"
   ]
  },
  {
   "cell_type": "code",
   "execution_count": 9,
   "metadata": {},
   "outputs": [
    {
     "data": {
      "text/html": [
       "<div>\n",
       "<style scoped>\n",
       "    .dataframe tbody tr th:only-of-type {\n",
       "        vertical-align: middle;\n",
       "    }\n",
       "\n",
       "    .dataframe tbody tr th {\n",
       "        vertical-align: top;\n",
       "    }\n",
       "\n",
       "    .dataframe thead th {\n",
       "        text-align: right;\n",
       "    }\n",
       "</style>\n",
       "<table border=\"1\" class=\"dataframe\">\n",
       "  <thead>\n",
       "    <tr style=\"text-align: right;\">\n",
       "      <th></th>\n",
       "      <th>transactionId</th>\n",
       "      <th>visitorId</th>\n",
       "      <th>date</th>\n",
       "      <th>revenue</th>\n",
       "      <th>group</th>\n",
       "    </tr>\n",
       "  </thead>\n",
       "  <tbody>\n",
       "    <tr>\n",
       "      <th>0</th>\n",
       "      <td>3667963787</td>\n",
       "      <td>3312258926</td>\n",
       "      <td>2019-08-15</td>\n",
       "      <td>30.4</td>\n",
       "      <td>B</td>\n",
       "    </tr>\n",
       "    <tr>\n",
       "      <th>1</th>\n",
       "      <td>2804400009</td>\n",
       "      <td>3642806036</td>\n",
       "      <td>2019-08-15</td>\n",
       "      <td>15.2</td>\n",
       "      <td>B</td>\n",
       "    </tr>\n",
       "    <tr>\n",
       "      <th>2</th>\n",
       "      <td>2961555356</td>\n",
       "      <td>4069496402</td>\n",
       "      <td>2019-08-15</td>\n",
       "      <td>10.2</td>\n",
       "      <td>A</td>\n",
       "    </tr>\n",
       "  </tbody>\n",
       "</table>\n",
       "</div>"
      ],
      "text/plain": [
       "   transactionId   visitorId        date  revenue group\n",
       "0     3667963787  3312258926  2019-08-15     30.4     B\n",
       "1     2804400009  3642806036  2019-08-15     15.2     B\n",
       "2     2961555356  4069496402  2019-08-15     10.2     A"
      ]
     },
     "metadata": {},
     "output_type": "display_data"
    },
    {
     "data": {
      "text/html": [
       "<div>\n",
       "<style scoped>\n",
       "    .dataframe tbody tr th:only-of-type {\n",
       "        vertical-align: middle;\n",
       "    }\n",
       "\n",
       "    .dataframe tbody tr th {\n",
       "        vertical-align: top;\n",
       "    }\n",
       "\n",
       "    .dataframe thead th {\n",
       "        text-align: right;\n",
       "    }\n",
       "</style>\n",
       "<table border=\"1\" class=\"dataframe\">\n",
       "  <thead>\n",
       "    <tr style=\"text-align: right;\">\n",
       "      <th></th>\n",
       "      <th>transactionId</th>\n",
       "      <th>visitorId</th>\n",
       "      <th>date</th>\n",
       "      <th>revenue</th>\n",
       "      <th>group</th>\n",
       "    </tr>\n",
       "  </thead>\n",
       "  <tbody>\n",
       "    <tr>\n",
       "      <th>1194</th>\n",
       "      <td>1807773912</td>\n",
       "      <td>573423106</td>\n",
       "      <td>2019-08-14</td>\n",
       "      <td>165.3</td>\n",
       "      <td>A</td>\n",
       "    </tr>\n",
       "    <tr>\n",
       "      <th>1195</th>\n",
       "      <td>1947021204</td>\n",
       "      <td>1614305549</td>\n",
       "      <td>2019-08-14</td>\n",
       "      <td>5.5</td>\n",
       "      <td>A</td>\n",
       "    </tr>\n",
       "    <tr>\n",
       "      <th>1196</th>\n",
       "      <td>3936777065</td>\n",
       "      <td>2108080724</td>\n",
       "      <td>2019-08-15</td>\n",
       "      <td>3120.1</td>\n",
       "      <td>B</td>\n",
       "    </tr>\n",
       "  </tbody>\n",
       "</table>\n",
       "</div>"
      ],
      "text/plain": [
       "      transactionId   visitorId        date  revenue group\n",
       "1194     1807773912   573423106  2019-08-14    165.3     A\n",
       "1195     1947021204  1614305549  2019-08-14      5.5     A\n",
       "1196     3936777065  2108080724  2019-08-15   3120.1     B"
      ]
     },
     "metadata": {},
     "output_type": "display_data"
    },
    {
     "data": {
      "text/html": [
       "<div>\n",
       "<style scoped>\n",
       "    .dataframe tbody tr th:only-of-type {\n",
       "        vertical-align: middle;\n",
       "    }\n",
       "\n",
       "    .dataframe tbody tr th {\n",
       "        vertical-align: top;\n",
       "    }\n",
       "\n",
       "    .dataframe thead th {\n",
       "        text-align: right;\n",
       "    }\n",
       "</style>\n",
       "<table border=\"1\" class=\"dataframe\">\n",
       "  <thead>\n",
       "    <tr style=\"text-align: right;\">\n",
       "      <th></th>\n",
       "      <th>transactionId</th>\n",
       "      <th>visitorId</th>\n",
       "      <th>date</th>\n",
       "      <th>revenue</th>\n",
       "      <th>group</th>\n",
       "    </tr>\n",
       "  </thead>\n",
       "  <tbody>\n",
       "    <tr>\n",
       "      <th>403</th>\n",
       "      <td>2890964573</td>\n",
       "      <td>3704741858</td>\n",
       "      <td>2019-08-28</td>\n",
       "      <td>10.1</td>\n",
       "      <td>B</td>\n",
       "    </tr>\n",
       "  </tbody>\n",
       "</table>\n",
       "</div>"
      ],
      "text/plain": [
       "     transactionId   visitorId        date  revenue group\n",
       "403     2890964573  3704741858  2019-08-28     10.1     B"
      ]
     },
     "metadata": {},
     "output_type": "display_data"
    }
   ],
   "source": [
    "# first glimpse of 'orders'\n",
    "\n",
    "display(orders.head(3))\n",
    "display(orders.tail(3))\n",
    "display(orders.sample())"
   ]
  },
  {
   "cell_type": "markdown",
   "metadata": {},
   "source": [
    "#### Transforming 'date' to Datetime Object:"
   ]
  },
  {
   "cell_type": "markdown",
   "metadata": {},
   "source": [
    "<a id=\"9\"></a>"
   ]
  },
  {
   "cell_type": "code",
   "execution_count": 10,
   "metadata": {},
   "outputs": [],
   "source": [
    "# changing the 'date' foramt using map() and 'lambda':\n",
    "\n",
    "orders['date'] = orders['date'].map(\n",
    "    lambda x: dt.datetime.strptime(x, '%Y-%m-%d'))"
   ]
  },
  {
   "cell_type": "markdown",
   "metadata": {},
   "source": [
    "#### Checking Missing Values & Data inconsistency"
   ]
  },
  {
   "cell_type": "markdown",
   "metadata": {},
   "source": [
    "<a id=\"10\"></a>"
   ]
  },
  {
   "cell_type": "code",
   "execution_count": 11,
   "metadata": {},
   "outputs": [
    {
     "data": {
      "text/plain": [
       "transactionId    0\n",
       "visitorId        0\n",
       "date             0\n",
       "revenue          0\n",
       "group            0\n",
       "dtype: int64"
      ]
     },
     "execution_count": 11,
     "metadata": {},
     "output_type": "execute_result"
    }
   ],
   "source": [
    "# checking for missing values in 'orders':\n",
    "\n",
    "orders.isnull().sum()"
   ]
  },
  {
   "cell_type": "code",
   "execution_count": 13,
   "metadata": {},
   "outputs": [
    {
     "data": {
      "text/plain": [
       "array(['2019-08-15T00:00:00.000000000', '2019-08-16T00:00:00.000000000',\n",
       "       '2019-08-01T00:00:00.000000000', '2019-08-22T00:00:00.000000000',\n",
       "       '2019-08-17T00:00:00.000000000', '2019-08-23T00:00:00.000000000',\n",
       "       '2019-08-02T00:00:00.000000000', '2019-08-18T00:00:00.000000000',\n",
       "       '2019-08-24T00:00:00.000000000', '2019-08-03T00:00:00.000000000',\n",
       "       '2019-08-25T00:00:00.000000000', '2019-08-28T00:00:00.000000000',\n",
       "       '2019-08-19T00:00:00.000000000', '2019-08-06T00:00:00.000000000',\n",
       "       '2019-08-26T00:00:00.000000000', '2019-08-29T00:00:00.000000000',\n",
       "       '2019-08-04T00:00:00.000000000', '2019-08-20T00:00:00.000000000',\n",
       "       '2019-08-09T00:00:00.000000000', '2019-08-07T00:00:00.000000000',\n",
       "       '2019-08-30T00:00:00.000000000', '2019-08-05T00:00:00.000000000',\n",
       "       '2019-08-27T00:00:00.000000000', '2019-08-21T00:00:00.000000000',\n",
       "       '2019-08-08T00:00:00.000000000', '2019-08-10T00:00:00.000000000',\n",
       "       '2019-08-31T00:00:00.000000000', '2019-08-11T00:00:00.000000000',\n",
       "       '2019-08-12T00:00:00.000000000', '2019-08-13T00:00:00.000000000',\n",
       "       '2019-08-14T00:00:00.000000000'], dtype='datetime64[ns]')"
      ]
     },
     "metadata": {},
     "output_type": "display_data"
    },
    {
     "data": {
      "text/plain": [
       "array([3312258926, 3642806036, 4069496402, ...,  370388673,  573423106,\n",
       "       2108080724], dtype=int64)"
      ]
     },
     "metadata": {},
     "output_type": "display_data"
    },
    {
     "data": {
      "text/plain": [
       "array(['B', 'A'], dtype=object)"
      ]
     },
     "metadata": {},
     "output_type": "display_data"
    }
   ],
   "source": [
    "# Checking orders columns for incorrect values\n",
    "\n",
    "display(orders.date.unique())\n",
    "display(orders.visitorId.unique())\n",
    "display(orders.group.unique())"
   ]
  },
  {
   "cell_type": "markdown",
   "metadata": {},
   "source": [
    "#### Center location & Dispersion Indicies"
   ]
  },
  {
   "cell_type": "markdown",
   "metadata": {},
   "source": [
    "<a id=\"11\"></a>"
   ]
  },
  {
   "cell_type": "code",
   "execution_count": 14,
   "metadata": {},
   "outputs": [
    {
     "data": {
      "text/plain": [
       "count     1197.000000\n",
       "mean       131.491646\n",
       "std        603.004729\n",
       "min          5.000000\n",
       "25%         20.800000\n",
       "50%         50.200000\n",
       "75%        130.400000\n",
       "max      19920.400000\n",
       "Name: revenue, dtype: float64"
      ]
     },
     "execution_count": 14,
     "metadata": {},
     "output_type": "execute_result"
    }
   ],
   "source": [
    "# Checking Center location & Dispersion indicies('revenue' alone):\n",
    "\n",
    "orders.revenue.describe()"
   ]
  },
  {
   "cell_type": "markdown",
   "metadata": {},
   "source": [
    "<a id=\"12\"></a>"
   ]
  },
  {
   "cell_type": "markdown",
   "metadata": {},
   "source": [
    "#### Test Preperations: Creating Groups"
   ]
  },
  {
   "cell_type": "code",
   "execution_count": 15,
   "metadata": {},
   "outputs": [
    {
     "data": {
      "text/plain": [
       "'Number of users observed in both groups:'"
      ]
     },
     "metadata": {},
     "output_type": "display_data"
    },
    {
     "data": {
      "text/plain": [
       "0    183\n",
       "dtype: int64"
      ]
     },
     "metadata": {},
     "output_type": "display_data"
    },
    {
     "data": {
      "text/html": [
       "<div>\n",
       "<style scoped>\n",
       "    .dataframe tbody tr th:only-of-type {\n",
       "        vertical-align: middle;\n",
       "    }\n",
       "\n",
       "    .dataframe tbody tr th {\n",
       "        vertical-align: top;\n",
       "    }\n",
       "\n",
       "    .dataframe thead th {\n",
       "        text-align: right;\n",
       "    }\n",
       "</style>\n",
       "<table border=\"1\" class=\"dataframe\">\n",
       "  <thead>\n",
       "    <tr style=\"text-align: right;\">\n",
       "      <th></th>\n",
       "      <th>transactionId_x</th>\n",
       "      <th>visitorId</th>\n",
       "      <th>date_x</th>\n",
       "      <th>revenue_x</th>\n",
       "      <th>group_x</th>\n",
       "      <th>transactionId_y</th>\n",
       "      <th>date_y</th>\n",
       "      <th>revenue_y</th>\n",
       "      <th>group_y</th>\n",
       "    </tr>\n",
       "  </thead>\n",
       "  <tbody>\n",
       "    <tr>\n",
       "      <th>67</th>\n",
       "      <td>2415738512</td>\n",
       "      <td>2038680547</td>\n",
       "      <td>2019-08-25</td>\n",
       "      <td>5.2</td>\n",
       "      <td>A</td>\n",
       "      <td>3666913472</td>\n",
       "      <td>2019-08-15</td>\n",
       "      <td>30.8</td>\n",
       "      <td>B</td>\n",
       "    </tr>\n",
       "  </tbody>\n",
       "</table>\n",
       "</div>"
      ],
      "text/plain": [
       "    transactionId_x   visitorId     date_x  revenue_x group_x  \\\n",
       "67       2415738512  2038680547 2019-08-25        5.2       A   \n",
       "\n",
       "    transactionId_y     date_y  revenue_y group_y  \n",
       "67       3666913472 2019-08-15       30.8       B  "
      ]
     },
     "metadata": {},
     "output_type": "display_data"
    }
   ],
   "source": [
    "# Seperating the groups\n",
    "\n",
    "ordersA=orders.query('group == \"A\"')\n",
    "ordersB=orders.query('group == \"B\"')\n",
    "\n",
    "both_groups = pd.merge(ordersA, ordersB, how='inner', on=['visitorId'])\n",
    "\n",
    "# These 183 observations are all users observed in both groups. since this not many, \n",
    "# we will remove them from our orders for further culculations to be more correct\n",
    "\n",
    "display('Number of users observed in both groups:', pd.Series(len(both_groups)))\n",
    "display(both_groups.sample())\n",
    "\n",
    "bad_list=both_groups['visitorId']"
   ]
  },
  {
   "cell_type": "code",
   "execution_count": 16,
   "metadata": {},
   "outputs": [
    {
     "name": "stdout",
     "output_type": "stream",
     "text": [
      "<class 'pandas.core.frame.DataFrame'>\n",
      "Int64Index: 1016 entries, 0 to 1196\n",
      "Data columns (total 5 columns):\n",
      " #   Column         Non-Null Count  Dtype         \n",
      "---  ------         --------------  -----         \n",
      " 0   transactionId  1016 non-null   int64         \n",
      " 1   visitorId      1016 non-null   int64         \n",
      " 2   date           1016 non-null   datetime64[ns]\n",
      " 3   revenue        1016 non-null   float64       \n",
      " 4   group          1016 non-null   object        \n",
      "dtypes: datetime64[ns](1), float64(1), int64(2), object(1)\n",
      "memory usage: 47.6+ KB\n"
     ]
    }
   ],
   "source": [
    "# creating raw-data copy\n",
    "\n",
    "raw_orders=orders.copy()\n",
    "\n",
    "# excluding duplicates ID's and creating a clean data set\n",
    "\n",
    "orders = orders[~orders['visitorId'].isin(bad_list)]\n",
    "\n",
    "orders.info()"
   ]
  },
  {
   "cell_type": "code",
   "execution_count": 18,
   "metadata": {},
   "outputs": [
    {
     "data": {
      "text/html": [
       "<div>\n",
       "<style scoped>\n",
       "    .dataframe tbody tr th:only-of-type {\n",
       "        vertical-align: middle;\n",
       "    }\n",
       "\n",
       "    .dataframe tbody tr th {\n",
       "        vertical-align: top;\n",
       "    }\n",
       "\n",
       "    .dataframe thead th {\n",
       "        text-align: right;\n",
       "    }\n",
       "</style>\n",
       "<table border=\"1\" class=\"dataframe\">\n",
       "  <thead>\n",
       "    <tr style=\"text-align: right;\">\n",
       "      <th></th>\n",
       "      <th>date</th>\n",
       "      <th>group</th>\n",
       "    </tr>\n",
       "  </thead>\n",
       "  <tbody>\n",
       "    <tr>\n",
       "      <th>0</th>\n",
       "      <td>2019-08-15</td>\n",
       "      <td>B</td>\n",
       "    </tr>\n",
       "    <tr>\n",
       "      <th>7</th>\n",
       "      <td>2019-08-15</td>\n",
       "      <td>A</td>\n",
       "    </tr>\n",
       "    <tr>\n",
       "      <th>45</th>\n",
       "      <td>2019-08-16</td>\n",
       "      <td>A</td>\n",
       "    </tr>\n",
       "  </tbody>\n",
       "</table>\n",
       "</div>"
      ],
      "text/plain": [
       "         date group\n",
       "0  2019-08-15     B\n",
       "7  2019-08-15     A\n",
       "45 2019-08-16     A"
      ]
     },
     "metadata": {},
     "output_type": "display_data"
    }
   ],
   "source": [
    "datesGroups = orders[['date','group']].drop_duplicates() \n",
    "display(datesGroups.head(3))"
   ]
  },
  {
   "cell_type": "code",
   "execution_count": 19,
   "metadata": {},
   "outputs": [
    {
     "data": {
      "text/html": [
       "<div>\n",
       "<style scoped>\n",
       "    .dataframe tbody tr th:only-of-type {\n",
       "        vertical-align: middle;\n",
       "    }\n",
       "\n",
       "    .dataframe tbody tr th {\n",
       "        vertical-align: top;\n",
       "    }\n",
       "\n",
       "    .dataframe thead th {\n",
       "        text-align: right;\n",
       "    }\n",
       "</style>\n",
       "<table border=\"1\" class=\"dataframe\">\n",
       "  <thead>\n",
       "    <tr style=\"text-align: right;\">\n",
       "      <th></th>\n",
       "      <th>date</th>\n",
       "      <th>group</th>\n",
       "      <th>transactionId</th>\n",
       "      <th>visitorId</th>\n",
       "      <th>revenue</th>\n",
       "    </tr>\n",
       "  </thead>\n",
       "  <tbody>\n",
       "    <tr>\n",
       "      <th>55</th>\n",
       "      <td>2019-08-01</td>\n",
       "      <td>A</td>\n",
       "      <td>23</td>\n",
       "      <td>19</td>\n",
       "      <td>2266.6</td>\n",
       "    </tr>\n",
       "    <tr>\n",
       "      <th>66</th>\n",
       "      <td>2019-08-01</td>\n",
       "      <td>B</td>\n",
       "      <td>17</td>\n",
       "      <td>17</td>\n",
       "      <td>967.2</td>\n",
       "    </tr>\n",
       "    <tr>\n",
       "      <th>175</th>\n",
       "      <td>2019-08-02</td>\n",
       "      <td>A</td>\n",
       "      <td>42</td>\n",
       "      <td>36</td>\n",
       "      <td>3734.9</td>\n",
       "    </tr>\n",
       "  </tbody>\n",
       "</table>\n",
       "</div>"
      ],
      "text/plain": [
       "          date group  transactionId  visitorId  revenue\n",
       "55  2019-08-01     A             23         19   2266.6\n",
       "66  2019-08-01     B             17         17    967.2\n",
       "175 2019-08-02     A             42         36   3734.9"
      ]
     },
     "metadata": {},
     "output_type": "display_data"
    }
   ],
   "source": [
    "# Here iv'e created aggregated orders by using np.logical, counting unique visitorId & transactionId:\n",
    "\n",
    "ordersAggregated = datesGroups.apply(lambda x: orders[np.logical_and(orders['date'] <= x['date'],\n",
    "                                                                     orders['group'] == x['group'])]\n",
    "                                     .agg({'date' : 'max', 'group' : 'max',\n",
    "                                           'transactionId' : pd.Series.nunique, 'visitorId' : pd.Series.nunique,\n",
    "                                           'revenue' : 'sum'}), axis=1).sort_values(by=['date','group'])\n",
    "display(ordersAggregated.head(3))"
   ]
  },
  {
   "cell_type": "markdown",
   "metadata": {},
   "source": [
    "#### 'Visits' Data Set: Preview"
   ]
  },
  {
   "cell_type": "markdown",
   "metadata": {},
   "source": [
    "<a id=\"13\"></a>"
   ]
  },
  {
   "cell_type": "code",
   "execution_count": 20,
   "metadata": {},
   "outputs": [
    {
     "name": "stdout",
     "output_type": "stream",
     "text": [
      "<class 'pandas.core.frame.DataFrame'>\n",
      "RangeIndex: 62 entries, 0 to 61\n",
      "Data columns (total 3 columns):\n",
      " #   Column  Non-Null Count  Dtype \n",
      "---  ------  --------------  ----- \n",
      " 0   date    62 non-null     object\n",
      " 1   group   62 non-null     object\n",
      " 2   visits  62 non-null     int64 \n",
      "dtypes: int64(1), object(2)\n",
      "memory usage: 8.2 KB\n"
     ]
    },
    {
     "data": {
      "text/plain": [
       "None"
      ]
     },
     "metadata": {},
     "output_type": "display_data"
    }
   ],
   "source": [
    "# checking visits info:\n",
    "\n",
    "display(visits.info(memory_usage='deep'))"
   ]
  },
  {
   "cell_type": "code",
   "execution_count": 21,
   "metadata": {},
   "outputs": [
    {
     "data": {
      "text/html": [
       "<div>\n",
       "<style scoped>\n",
       "    .dataframe tbody tr th:only-of-type {\n",
       "        vertical-align: middle;\n",
       "    }\n",
       "\n",
       "    .dataframe tbody tr th {\n",
       "        vertical-align: top;\n",
       "    }\n",
       "\n",
       "    .dataframe thead th {\n",
       "        text-align: right;\n",
       "    }\n",
       "</style>\n",
       "<table border=\"1\" class=\"dataframe\">\n",
       "  <thead>\n",
       "    <tr style=\"text-align: right;\">\n",
       "      <th></th>\n",
       "      <th>date</th>\n",
       "      <th>group</th>\n",
       "      <th>visits</th>\n",
       "    </tr>\n",
       "  </thead>\n",
       "  <tbody>\n",
       "    <tr>\n",
       "      <th>0</th>\n",
       "      <td>2019-08-01</td>\n",
       "      <td>A</td>\n",
       "      <td>719</td>\n",
       "    </tr>\n",
       "    <tr>\n",
       "      <th>1</th>\n",
       "      <td>2019-08-02</td>\n",
       "      <td>A</td>\n",
       "      <td>619</td>\n",
       "    </tr>\n",
       "    <tr>\n",
       "      <th>2</th>\n",
       "      <td>2019-08-03</td>\n",
       "      <td>A</td>\n",
       "      <td>507</td>\n",
       "    </tr>\n",
       "  </tbody>\n",
       "</table>\n",
       "</div>"
      ],
      "text/plain": [
       "         date group  visits\n",
       "0  2019-08-01     A     719\n",
       "1  2019-08-02     A     619\n",
       "2  2019-08-03     A     507"
      ]
     },
     "metadata": {},
     "output_type": "display_data"
    },
    {
     "data": {
      "text/html": [
       "<div>\n",
       "<style scoped>\n",
       "    .dataframe tbody tr th:only-of-type {\n",
       "        vertical-align: middle;\n",
       "    }\n",
       "\n",
       "    .dataframe tbody tr th {\n",
       "        vertical-align: top;\n",
       "    }\n",
       "\n",
       "    .dataframe thead th {\n",
       "        text-align: right;\n",
       "    }\n",
       "</style>\n",
       "<table border=\"1\" class=\"dataframe\">\n",
       "  <thead>\n",
       "    <tr style=\"text-align: right;\">\n",
       "      <th></th>\n",
       "      <th>date</th>\n",
       "      <th>group</th>\n",
       "      <th>visits</th>\n",
       "    </tr>\n",
       "  </thead>\n",
       "  <tbody>\n",
       "    <tr>\n",
       "      <th>59</th>\n",
       "      <td>2019-08-29</td>\n",
       "      <td>B</td>\n",
       "      <td>531</td>\n",
       "    </tr>\n",
       "    <tr>\n",
       "      <th>60</th>\n",
       "      <td>2019-08-30</td>\n",
       "      <td>B</td>\n",
       "      <td>490</td>\n",
       "    </tr>\n",
       "    <tr>\n",
       "      <th>61</th>\n",
       "      <td>2019-08-31</td>\n",
       "      <td>B</td>\n",
       "      <td>718</td>\n",
       "    </tr>\n",
       "  </tbody>\n",
       "</table>\n",
       "</div>"
      ],
      "text/plain": [
       "          date group  visits\n",
       "59  2019-08-29     B     531\n",
       "60  2019-08-30     B     490\n",
       "61  2019-08-31     B     718"
      ]
     },
     "metadata": {},
     "output_type": "display_data"
    },
    {
     "data": {
      "text/html": [
       "<div>\n",
       "<style scoped>\n",
       "    .dataframe tbody tr th:only-of-type {\n",
       "        vertical-align: middle;\n",
       "    }\n",
       "\n",
       "    .dataframe tbody tr th {\n",
       "        vertical-align: top;\n",
       "    }\n",
       "\n",
       "    .dataframe thead th {\n",
       "        text-align: right;\n",
       "    }\n",
       "</style>\n",
       "<table border=\"1\" class=\"dataframe\">\n",
       "  <thead>\n",
       "    <tr style=\"text-align: right;\">\n",
       "      <th></th>\n",
       "      <th>date</th>\n",
       "      <th>group</th>\n",
       "      <th>visits</th>\n",
       "    </tr>\n",
       "  </thead>\n",
       "  <tbody>\n",
       "    <tr>\n",
       "      <th>48</th>\n",
       "      <td>2019-08-18</td>\n",
       "      <td>B</td>\n",
       "      <td>737</td>\n",
       "    </tr>\n",
       "  </tbody>\n",
       "</table>\n",
       "</div>"
      ],
      "text/plain": [
       "          date group  visits\n",
       "48  2019-08-18     B     737"
      ]
     },
     "metadata": {},
     "output_type": "display_data"
    }
   ],
   "source": [
    "# checking 'visits' head():\n",
    "\n",
    "display(visits.head(3))\n",
    "display(visits.tail(3))\n",
    "display(visits.sample())"
   ]
  },
  {
   "cell_type": "markdown",
   "metadata": {},
   "source": [
    "#### Transforming 'date' Column to Datetime Object:"
   ]
  },
  {
   "cell_type": "markdown",
   "metadata": {},
   "source": [
    "<a id=\"14\"></a>"
   ]
  },
  {
   "cell_type": "code",
   "execution_count": 22,
   "metadata": {},
   "outputs": [],
   "source": [
    "# changing 'date' format:\n",
    "\n",
    "visits['date'] = visits['date'].map(lambda x: dt.datetime.strptime(x, '%Y-%m-%d'))"
   ]
  },
  {
   "cell_type": "markdown",
   "metadata": {},
   "source": [
    "#### Checking Missing Values & Data inconsistency"
   ]
  },
  {
   "cell_type": "markdown",
   "metadata": {},
   "source": [
    "<a id=\"15\"></a>"
   ]
  },
  {
   "cell_type": "code",
   "execution_count": 24,
   "metadata": {},
   "outputs": [
    {
     "data": {
      "text/plain": [
       "0"
      ]
     },
     "metadata": {},
     "output_type": "display_data"
    },
    {
     "data": {
      "text/plain": [
       "Timestamp('2019-08-01 00:00:00')"
      ]
     },
     "metadata": {},
     "output_type": "display_data"
    },
    {
     "data": {
      "text/plain": [
       "Timestamp('2019-08-31 00:00:00')"
      ]
     },
     "metadata": {},
     "output_type": "display_data"
    }
   ],
   "source": [
    "# checking for duplicates\n",
    "\n",
    "display(visits.duplicated().sum())\n",
    "\n",
    "# checking the date range\n",
    "\n",
    "display(visits.date.min())\n",
    "display(visits.date.max())"
   ]
  },
  {
   "cell_type": "code",
   "execution_count": 23,
   "metadata": {},
   "outputs": [
    {
     "data": {
      "text/plain": [
       "date      0\n",
       "group     0\n",
       "visits    0\n",
       "dtype: int64"
      ]
     },
     "execution_count": 23,
     "metadata": {},
     "output_type": "execute_result"
    }
   ],
   "source": [
    "# checking for missing values in 'visits':\n",
    "\n",
    "visits.isnull().sum()"
   ]
  },
  {
   "cell_type": "code",
   "execution_count": 25,
   "metadata": {},
   "outputs": [
    {
     "data": {
      "text/plain": [
       "array([719, 619, 507, 717, 756, 667, 644, 610, 617, 406, 718, 595, 748,\n",
       "       735, 628, 361, 412, 668, 502, 575, 646, 609, 468, 395, 621, 722,\n",
       "       711, 594, 577, 490, 699, 713, 581, 509, 770, 707, 655, 709, 654,\n",
       "       369, 721, 543, 769, 746, 544, 413, 421, 737, 487, 560, 656, 650,\n",
       "       546, 378, 679, 676, 720, 531], dtype=int64)"
      ]
     },
     "metadata": {},
     "output_type": "display_data"
    },
    {
     "data": {
      "text/plain": [
       "array(['A', 'B'], dtype=object)"
      ]
     },
     "metadata": {},
     "output_type": "display_data"
    },
    {
     "data": {
      "text/plain": [
       "array(['2019-08-01T00:00:00.000000000', '2019-08-02T00:00:00.000000000',\n",
       "       '2019-08-03T00:00:00.000000000', '2019-08-04T00:00:00.000000000',\n",
       "       '2019-08-05T00:00:00.000000000', '2019-08-06T00:00:00.000000000',\n",
       "       '2019-08-07T00:00:00.000000000', '2019-08-08T00:00:00.000000000',\n",
       "       '2019-08-09T00:00:00.000000000', '2019-08-10T00:00:00.000000000',\n",
       "       '2019-08-11T00:00:00.000000000', '2019-08-12T00:00:00.000000000',\n",
       "       '2019-08-13T00:00:00.000000000', '2019-08-14T00:00:00.000000000',\n",
       "       '2019-08-15T00:00:00.000000000', '2019-08-16T00:00:00.000000000',\n",
       "       '2019-08-17T00:00:00.000000000', '2019-08-18T00:00:00.000000000',\n",
       "       '2019-08-19T00:00:00.000000000', '2019-08-20T00:00:00.000000000',\n",
       "       '2019-08-21T00:00:00.000000000', '2019-08-22T00:00:00.000000000',\n",
       "       '2019-08-23T00:00:00.000000000', '2019-08-24T00:00:00.000000000',\n",
       "       '2019-08-25T00:00:00.000000000', '2019-08-26T00:00:00.000000000',\n",
       "       '2019-08-27T00:00:00.000000000', '2019-08-28T00:00:00.000000000',\n",
       "       '2019-08-29T00:00:00.000000000', '2019-08-30T00:00:00.000000000',\n",
       "       '2019-08-31T00:00:00.000000000'], dtype='datetime64[ns]')"
      ]
     },
     "metadata": {},
     "output_type": "display_data"
    }
   ],
   "source": [
    "# Checking to see if I have any unusual values in one of the 'visits' columns:\n",
    "\n",
    "display(visits.visits.unique())\n",
    "\n",
    "display(visits.group.unique())\n",
    "\n",
    "display(visits.date.unique())"
   ]
  },
  {
   "cell_type": "markdown",
   "metadata": {},
   "source": [
    "#### Test Preperations: Aggregated Data From Visits:"
   ]
  },
  {
   "cell_type": "markdown",
   "metadata": {},
   "source": [
    "<a id=\"16\"></a>"
   ]
  },
  {
   "cell_type": "code",
   "execution_count": 26,
   "metadata": {},
   "outputs": [
    {
     "data": {
      "text/html": [
       "<div>\n",
       "<style scoped>\n",
       "    .dataframe tbody tr th:only-of-type {\n",
       "        vertical-align: middle;\n",
       "    }\n",
       "\n",
       "    .dataframe tbody tr th {\n",
       "        vertical-align: top;\n",
       "    }\n",
       "\n",
       "    .dataframe thead th {\n",
       "        text-align: right;\n",
       "    }\n",
       "</style>\n",
       "<table border=\"1\" class=\"dataframe\">\n",
       "  <thead>\n",
       "    <tr style=\"text-align: right;\">\n",
       "      <th></th>\n",
       "      <th>date</th>\n",
       "      <th>group</th>\n",
       "      <th>visits</th>\n",
       "    </tr>\n",
       "  </thead>\n",
       "  <tbody>\n",
       "    <tr>\n",
       "      <th>55</th>\n",
       "      <td>2019-08-01</td>\n",
       "      <td>A</td>\n",
       "      <td>719</td>\n",
       "    </tr>\n",
       "    <tr>\n",
       "      <th>66</th>\n",
       "      <td>2019-08-01</td>\n",
       "      <td>B</td>\n",
       "      <td>713</td>\n",
       "    </tr>\n",
       "    <tr>\n",
       "      <th>175</th>\n",
       "      <td>2019-08-02</td>\n",
       "      <td>A</td>\n",
       "      <td>1338</td>\n",
       "    </tr>\n",
       "    <tr>\n",
       "      <th>173</th>\n",
       "      <td>2019-08-02</td>\n",
       "      <td>B</td>\n",
       "      <td>1294</td>\n",
       "    </tr>\n",
       "  </tbody>\n",
       "</table>\n",
       "</div>"
      ],
      "text/plain": [
       "          date group  visits\n",
       "55  2019-08-01     A     719\n",
       "66  2019-08-01     B     713\n",
       "175 2019-08-02     A    1338\n",
       "173 2019-08-02     B    1294"
      ]
     },
     "metadata": {},
     "output_type": "display_data"
    }
   ],
   "source": [
    "# Creating aggregated data set from 'visitors':\n",
    "\n",
    "visitorsAggregated = datesGroups.apply(lambda x:\n",
    "                                       visits[np.logical_and(visits['date'] <= x['date'],\n",
    "                                                                       visits['group'] == x['group'])].\n",
    "                                       agg({'date' : 'max', 'group' : 'max', 'visits' : 'sum'}),\n",
    "                                       axis=1).sort_values(by=['date','group'])\n",
    "display(visitorsAggregated.head(4))"
   ]
  },
  {
   "cell_type": "markdown",
   "metadata": {},
   "source": [
    "#### Merging Aggregated Data Frames"
   ]
  },
  {
   "cell_type": "markdown",
   "metadata": {},
   "source": [
    "<a id=\"17\"></a>"
   ]
  },
  {
   "cell_type": "code",
   "execution_count": 27,
   "metadata": {},
   "outputs": [
    {
     "data": {
      "text/html": [
       "<div>\n",
       "<style scoped>\n",
       "    .dataframe tbody tr th:only-of-type {\n",
       "        vertical-align: middle;\n",
       "    }\n",
       "\n",
       "    .dataframe tbody tr th {\n",
       "        vertical-align: top;\n",
       "    }\n",
       "\n",
       "    .dataframe thead th {\n",
       "        text-align: right;\n",
       "    }\n",
       "</style>\n",
       "<table border=\"1\" class=\"dataframe\">\n",
       "  <thead>\n",
       "    <tr style=\"text-align: right;\">\n",
       "      <th></th>\n",
       "      <th>date</th>\n",
       "      <th>group</th>\n",
       "      <th>orders</th>\n",
       "      <th>buyers</th>\n",
       "      <th>revenue</th>\n",
       "      <th>visitors</th>\n",
       "    </tr>\n",
       "  </thead>\n",
       "  <tbody>\n",
       "    <tr>\n",
       "      <th>0</th>\n",
       "      <td>2019-08-01</td>\n",
       "      <td>A</td>\n",
       "      <td>23</td>\n",
       "      <td>19</td>\n",
       "      <td>2266.6</td>\n",
       "      <td>719</td>\n",
       "    </tr>\n",
       "    <tr>\n",
       "      <th>1</th>\n",
       "      <td>2019-08-01</td>\n",
       "      <td>B</td>\n",
       "      <td>17</td>\n",
       "      <td>17</td>\n",
       "      <td>967.2</td>\n",
       "      <td>713</td>\n",
       "    </tr>\n",
       "    <tr>\n",
       "      <th>2</th>\n",
       "      <td>2019-08-02</td>\n",
       "      <td>A</td>\n",
       "      <td>42</td>\n",
       "      <td>36</td>\n",
       "      <td>3734.9</td>\n",
       "      <td>1338</td>\n",
       "    </tr>\n",
       "    <tr>\n",
       "      <th>3</th>\n",
       "      <td>2019-08-02</td>\n",
       "      <td>B</td>\n",
       "      <td>40</td>\n",
       "      <td>39</td>\n",
       "      <td>3535.3</td>\n",
       "      <td>1294</td>\n",
       "    </tr>\n",
       "  </tbody>\n",
       "</table>\n",
       "</div>"
      ],
      "text/plain": [
       "        date group  orders  buyers  revenue  visitors\n",
       "0 2019-08-01     A      23      19   2266.6       719\n",
       "1 2019-08-01     B      17      17    967.2       713\n",
       "2 2019-08-02     A      42      36   3734.9      1338\n",
       "3 2019-08-02     B      40      39   3535.3      1294"
      ]
     },
     "metadata": {},
     "output_type": "display_data"
    },
    {
     "name": "stdout",
     "output_type": "stream",
     "text": [
      "<class 'pandas.core.frame.DataFrame'>\n",
      "Int64Index: 62 entries, 0 to 61\n",
      "Data columns (total 6 columns):\n",
      " #   Column    Non-Null Count  Dtype         \n",
      "---  ------    --------------  -----         \n",
      " 0   date      62 non-null     datetime64[ns]\n",
      " 1   group     62 non-null     object        \n",
      " 2   orders    62 non-null     int64         \n",
      " 3   buyers    62 non-null     int64         \n",
      " 4   revenue   62 non-null     float64       \n",
      " 5   visitors  62 non-null     int64         \n",
      "dtypes: datetime64[ns](1), float64(1), int64(3), object(1)\n",
      "memory usage: 3.4+ KB\n"
     ]
    },
    {
     "data": {
      "text/plain": [
       "None"
      ]
     },
     "metadata": {},
     "output_type": "display_data"
    },
    {
     "data": {
      "text/plain": [
       "None"
      ]
     },
     "metadata": {},
     "output_type": "display_data"
    }
   ],
   "source": [
    "# Creating 'cumulativeData' frame,  Merging visitorAggregated & ordersAggregated: left & right merge on 'date' & 'group'\n",
    "## Changing cumulativeData columns names\n",
    "\n",
    "\n",
    "cumulativeData = ordersAggregated.merge(visitorsAggregated, left_on=['date', 'group'], right_on=['date', 'group'])\n",
    "cumulativeData.columns = ['date', 'group', 'orders', 'buyers', 'revenue', 'visitors']\n",
    "display(cumulativeData.head(4))\n",
    "\n",
    "display(display(cumulativeData.info()))"
   ]
  },
  {
   "cell_type": "markdown",
   "metadata": {},
   "source": [
    "<a id=\"18\"></a>"
   ]
  },
  {
   "cell_type": "markdown",
   "metadata": {},
   "source": [
    "### Summary\n",
    "\n",
    " __'orders' dataframe:__\n",
    "\n",
    "1 . Changing orders.date format from 'Object' to 'datetime64'.\n",
    "\n",
    "2 . Checking for missing values in 'orders' - there were none.\n",
    "\n",
    "3 . Checking the date range - correspond to 'visits' date range.\n",
    "\n",
    "4 . Checking duplicates rows (aside from duplicates ID's in groups) - there were none.\n",
    "\n",
    "5 . Checking for unique values in 'orders' columns -  There were none that deserved notice.\n",
    "\n",
    "6 . Creating/separating ordersA & ordersB than store users that wrongly participate in both test & control groups.\n",
    "    'bad_list': is a small data frame wich stores that users.\n",
    "    \n",
    "7 . Setting a copy of the raw data: 'raw_orders' & excluding duplicates ID's from 'orders'.\n",
    "\n",
    "8 . Duplicate ID elimination leads to the removal of 181 rows.\n",
    "    The data frame now has 1016 rows instead of the initial 1197 rows.\n",
    "\n",
    "9 . Creating 'ordersAggregated' which stores cumulative values of orders revenue.\n",
    "\n",
    " __'visits' dataframe:__\n",
    " \n",
    "1 . Changing visits.date format from 'Object' to 'datetime64'.\n",
    "\n",
    "2 . Checking for missing values in 'visits' - there were none.\n",
    "\n",
    "3 . Checking the date range - correspond to 'orders' date range.\n",
    "\n",
    "4 . Checking for duplicates rows - there were none.\n",
    "\n",
    "5 . Checking unique values in visits columns - There were none that deserved notice.\n",
    "\n",
    "6 . Creating 'visitorsAggregated' which now stores cumulative values of visits.\n",
    "\n",
    "7 . Merging 'visitorsAggregated' & 'ordersAggregated' under 'cumulativeData'.\n",
    "\n",
    "__cumulativeData__:\n",
    "\n",
    "1 . Contain 6 columns: date, group, orders, buyers, revenue & visitors.\n",
    "\n",
    "2 . 62 rows of data.\n"
   ]
  },
  {
   "cell_type": "markdown",
   "metadata": {},
   "source": [
    "### Visualizing A/B Test Results:"
   ]
  },
  {
   "cell_type": "markdown",
   "metadata": {},
   "source": [
    "<a id=\"19\"></a>"
   ]
  },
  {
   "cell_type": "markdown",
   "metadata": {},
   "source": [
    "#### Cumulative Revenue By Group"
   ]
  },
  {
   "cell_type": "markdown",
   "metadata": {},
   "source": [
    "<a id=\"20\"></a>"
   ]
  },
  {
   "cell_type": "code",
   "execution_count": 30,
   "metadata": {},
   "outputs": [
    {
     "data": {
      "image/png": "[encoded data removed]",
      "text/plain": [
       "<Figure size 900x900 with 1 Axes>"
      ]
     },
     "metadata": {},
     "output_type": "display_data"
    }
   ],
   "source": [
    "# DataFrame with cumulative orders and cumulative revenue by day, group A\n",
    "\n",
    "cumulativeRevenueA = cumulativeData[cumulativeData['group']=='A'][['date','revenue', 'orders']]\n",
    "\n",
    "# DataFrame with cumulative orders and cumulative revenue by day, group B\n",
    "\n",
    "cumulativeRevenueB = cumulativeData[cumulativeData['group']=='B'][['date','revenue', 'orders']]\n",
    "\n",
    "# Plotting the group A revenue graph\n",
    "\n",
    "plt.plot(cumulativeRevenueA['date'], cumulativeRevenueA['revenue'], label='A')\n",
    "\n",
    "# Plotting the group B revenue graph\n",
    "\n",
    "plt.plot(cumulativeRevenueB['date'], cumulativeRevenueB['revenue'], label='B')\n",
    "\n",
    "\n",
    "plt.rcParams[\"figure.figsize\"]=(9,9)\n",
    "plt.title('Cumulative Revenue by Group', fontsize='large', fontweight='bold')\n",
    "plt.ylabel('Revenue', fontsize='medium', fontweight='bold')\n",
    "plt.xlabel('Date', fontsize='medium', fontweight='bold')\n",
    "plt.xticks(color='blue', rotation=45)\n",
    "plt.legend()\n",
    "plt.grid()\n",
    "plt.show()"
   ]
  },
  {
   "cell_type": "markdown",
   "metadata": {},
   "source": [
    "#### Conclusion\n",
    "\n",
    "Revenue is rising throughout the whole test.\n",
    "\n",
    "However, As can be observed, group B's cumulative curve exhibits significant revenue peaks beginning in the middle of the month, whereas group A's cumulative curve increases steadily and at a very consistent rate.\n",
    "This could indicate that group B users placed more expensive orders or that group B orders increased."
   ]
  },
  {
   "cell_type": "markdown",
   "metadata": {},
   "source": [
    "<a id=\"21\"></a>"
   ]
  },
  {
   "cell_type": "markdown",
   "metadata": {},
   "source": [
    " #### Cumulative Average Order Size By Group"
   ]
  },
  {
   "cell_type": "code",
   "execution_count": 33,
   "metadata": {},
   "outputs": [
    {
     "data": {
      "image/png": "[encoded data removed]",
      "text/plain": [
       "<Figure size 900x900 with 1 Axes>"
      ]
     },
     "metadata": {},
     "output_type": "display_data"
    }
   ],
   "source": [
    "# cumulative average order size by group\n",
    "\n",
    "plt.plot(cumulativeRevenueA['date'], cumulativeRevenueA['revenue']/cumulativeRevenueA['orders'], label='A')\n",
    "plt.plot(cumulativeRevenueB['date'], cumulativeRevenueB['revenue']/cumulativeRevenueB['orders'], label='B')\n",
    "\n",
    "\n",
    "plt.rcParams[\"figure.figsize\"]=(9,9)\n",
    "plt.title('Cumulative Average Purchase Size by Group', fontsize='large', fontweight='bold')\n",
    "plt.ylabel('Avgerage Purchase Size', fontsize='medium', fontweight='bold')\n",
    "plt.xlabel('Date', fontsize='medium', fontweight='bold')\n",
    "plt.xticks(color='blue', rotation=45)\n",
    "plt.yticks(color='black')\n",
    "plt.legend()\n",
    "plt.grid()\n",
    "plt.show()"
   ]
  },
  {
   "cell_type": "markdown",
   "metadata": {},
   "source": [
    "#### Conclusion\n",
    "\n",
    "Average purchase size starting to become steady by the end of the test.\n",
    "\n",
    "it stabilizes for group A and keeps on falling for group B.\n",
    "\n",
    "The peak in group B's average purchase size and the peak earlier in the cumulative revenue graph (as of 17.8) seems related:\n",
    "\n",
    "It's possible that users from group B placed expensive orders."
   ]
  },
  {
   "cell_type": "markdown",
   "metadata": {},
   "source": [
    "#### Relative Difference: Average Purchase Size"
   ]
  },
  {
   "cell_type": "markdown",
   "metadata": {},
   "source": [
    "<a id=\"22\"></a>"
   ]
  },
  {
   "cell_type": "code",
   "execution_count": 104,
   "metadata": {},
   "outputs": [
    {
     "data": {
      "image/png": "[encoded data removed]",
      "text/plain": [
       "<Figure size 900x900 with 1 Axes>"
      ]
     },
     "metadata": {},
     "output_type": "display_data"
    }
   ],
   "source": [
    "# gathering the data into one DataFrame\n",
    "\n",
    "mergedCumulativeRevenue = cumulativeRevenueA.\\\n",
    "merge(cumulativeRevenueB, left_on='date', right_on='date', how='left', suffixes=['A', 'B'])\n",
    "\n",
    "# plotting a relative difference graph for the average purchase sizes\n",
    "\n",
    "plt.\\\n",
    "plot(mergedCumulativeRevenue['date'], (mergedCumulativeRevenue['revenueB']/mergedCumulativeRevenue['ordersB'])/\\\n",
    "     (mergedCumulativeRevenue['revenueA']/mergedCumulativeRevenue['ordersA'])-1)\n",
    "\n",
    "plt.axhline(y=0, color='black', linestyle='--')\n",
    "plt.title('Relative Difference: Average Purchase Size', fontsize='large', fontweight='bold')\n",
    "plt.ylabel('Relative Difference', fontsize='medium', fontweight='bold')\n",
    "plt.xlabel('Date', fontsize='medium', fontweight='bold')\n",
    "plt.xticks(color='blue', rotation=45)\n",
    "plt.grid()\n",
    "plt.yticks(color='black')\n",
    "plt.show()"
   ]
  },
  {
   "cell_type": "markdown",
   "metadata": {},
   "source": [
    "#### Conclusion\n",
    "\n",
    "There are three points on the test timeline where the average purchase size for the two groups is the same.\n",
    "\n",
    "On the other hand, group A clients had the highest average purchase size at the start of the test.\n",
    "\n",
    "On the second day of the test, this tendency started to alter; group B took the lead in terms of the size of the purchase.\n",
    "\n",
    "On 12.8 group A regained the lead, but by 18.8 customers from group B had added more expensive orders, outpacing those of their friends in group A by a significant margin.\n",
    "\n",
    "This tendency of the average purchase size's lead position shifting is consistent with the previous graph, which depicts the difference curve as having sharp ascents and descents."
   ]
  },
  {
   "cell_type": "markdown",
   "metadata": {},
   "source": [
    "#### Conversion Rate By Day"
   ]
  },
  {
   "cell_type": "markdown",
   "metadata": {},
   "source": [
    "<a id=\"23\"></a>"
   ]
  },
  {
   "cell_type": "code",
   "execution_count": 70,
   "metadata": {},
   "outputs": [
    {
     "data": {
      "text/plain": [
       "Timestamp('2019-08-01 00:00:00')"
      ]
     },
     "metadata": {},
     "output_type": "display_data"
    },
    {
     "data": {
      "text/plain": [
       "Timestamp('2019-08-31 00:00:00')"
      ]
     },
     "metadata": {},
     "output_type": "display_data"
    }
   ],
   "source": [
    "# Here i'm pulling 'date' min() & max() values- i'll use them on my next step when i'll plot cumulative conversion:\n",
    "\n",
    "display(mergedCumulativeRevenue.date.min())\n",
    "display(mergedCumulativeRevenue.date.max())"
   ]
  },
  {
   "cell_type": "code",
   "execution_count": 36,
   "metadata": {},
   "outputs": [
    {
     "data": {
      "image/png": "[encoded data removed]",
      "text/plain": [
       "<Figure size 900x900 with 1 Axes>"
      ]
     },
     "metadata": {},
     "output_type": "display_data"
    }
   ],
   "source": [
    "# calculating cumulative conversion\n",
    "\n",
    "cumulativeData['conversion'] = cumulativeData['orders']/cumulativeData['visitors']\n",
    "\n",
    "# selecting data on group A\n",
    "\n",
    "cumulativeDataA = cumulativeData[cumulativeData['group']=='A']\n",
    "\n",
    "# selecting data on group B\n",
    "\n",
    "cumulativeDataB = cumulativeData[cumulativeData['group']=='B']\n",
    "\n",
    "# plotting the graphs\n",
    "\n",
    "plt.plot(cumulativeDataA['date'], cumulativeDataA['conversion'], label='A')\n",
    "plt.plot(cumulativeDataB['date'], cumulativeDataB['conversion'], label='B')\n",
    "plt.legend()\n",
    "\n",
    "plt.axis([pd.to_datetime(\"2019-08-01\"), pd.to_datetime(\"2019-08-31\"), 0.02,0.040])\n",
    "plt.title('CR by Day', fontsize='large', fontweight='bold')\n",
    "plt.xticks(color='blue', rotation=45)\n",
    "plt.yticks(color='black')\n",
    "plt.grid()\n",
    "plt.ylabel('CR', fontsize='medium', fontweight='bold')\n",
    "plt.xlabel('Date', fontsize='medium', fontweight='bold')\n",
    "plt.show()"
   ]
  },
  {
   "cell_type": "code",
   "execution_count": 37,
   "metadata": {},
   "outputs": [
    {
     "data": {
      "text/plain": [
       "'The Overall Conversion of Group A:'"
      ]
     },
     "metadata": {},
     "output_type": "display_data"
    },
    {
     "data": {
      "text/plain": [
       "0.02585769760495693"
      ]
     },
     "metadata": {},
     "output_type": "display_data"
    },
    {
     "data": {
      "text/plain": [
       "'The Overall Conversion of Group B:'"
      ]
     },
     "metadata": {},
     "output_type": "display_data"
    },
    {
     "data": {
      "text/plain": [
       "0.02943091972438227"
      ]
     },
     "metadata": {},
     "output_type": "display_data"
    }
   ],
   "source": [
    "# calculating the overall conversion rate of each group:\n",
    "\n",
    "overallConversionA=cumulativeDataA['orders'].sum()/cumulativeDataA['visitors'].sum()\n",
    "display(\"The Overall Conversion of Group A:\", overallConversionA)\n",
    "\n",
    "overallConversionB=cumulativeDataB['orders'].sum()/cumulativeDataB['visitors'].sum()\n",
    "display(\"The Overall Conversion of Group B:\", overallConversionB)"
   ]
  },
  {
   "cell_type": "markdown",
   "metadata": {},
   "source": [
    "#### Conclusion\n",
    "\n",
    "1 .The graph shows that over the first six days of the test, both group A and group B exhibit peaks in daily conervation, with group A taking the lead.\n",
    "\n",
    "But as of 08.06, the pattern changes, and for the duration of the test, group B \"enjoys\" a higher daily conversion ratio than group A.\n",
    "\n",
    "In the final five days of the test, the daily conversion rate for the two groups appears to stabilize.\n",
    "\n",
    "2 .The overall conversion of group A is: 0.025.\n",
    "\n",
    "   The overall conversion of group B is: 0.029."
   ]
  },
  {
   "cell_type": "markdown",
   "metadata": {},
   "source": [
    "#### Relative Difference: Conversion Rate"
   ]
  },
  {
   "cell_type": "markdown",
   "metadata": {},
   "source": [
    "<a id=\"24\"></a>"
   ]
  },
  {
   "cell_type": "code",
   "execution_count": 38,
   "metadata": {},
   "outputs": [
    {
     "data": {
      "text/html": [
       "<div>\n",
       "<style scoped>\n",
       "    .dataframe tbody tr th:only-of-type {\n",
       "        vertical-align: middle;\n",
       "    }\n",
       "\n",
       "    .dataframe tbody tr th {\n",
       "        vertical-align: top;\n",
       "    }\n",
       "\n",
       "    .dataframe thead th {\n",
       "        text-align: right;\n",
       "    }\n",
       "</style>\n",
       "<table border=\"1\" class=\"dataframe\">\n",
       "  <thead>\n",
       "    <tr style=\"text-align: right;\">\n",
       "      <th></th>\n",
       "      <th>date</th>\n",
       "      <th>groupA</th>\n",
       "      <th>ordersA</th>\n",
       "      <th>buyersA</th>\n",
       "      <th>revenueA</th>\n",
       "      <th>visitorsA</th>\n",
       "      <th>conversionA</th>\n",
       "      <th>groupB</th>\n",
       "      <th>ordersB</th>\n",
       "      <th>buyersB</th>\n",
       "      <th>revenueB</th>\n",
       "      <th>visitorsB</th>\n",
       "      <th>conversionB</th>\n",
       "    </tr>\n",
       "  </thead>\n",
       "  <tbody>\n",
       "    <tr>\n",
       "      <th>0</th>\n",
       "      <td>2019-08-01</td>\n",
       "      <td>A</td>\n",
       "      <td>23</td>\n",
       "      <td>19</td>\n",
       "      <td>2266.6</td>\n",
       "      <td>719</td>\n",
       "      <td>0.031989</td>\n",
       "      <td>B</td>\n",
       "      <td>17</td>\n",
       "      <td>17</td>\n",
       "      <td>967.2</td>\n",
       "      <td>713</td>\n",
       "      <td>0.023843</td>\n",
       "    </tr>\n",
       "    <tr>\n",
       "      <th>1</th>\n",
       "      <td>2019-08-02</td>\n",
       "      <td>A</td>\n",
       "      <td>42</td>\n",
       "      <td>36</td>\n",
       "      <td>3734.9</td>\n",
       "      <td>1338</td>\n",
       "      <td>0.031390</td>\n",
       "      <td>B</td>\n",
       "      <td>40</td>\n",
       "      <td>39</td>\n",
       "      <td>3535.3</td>\n",
       "      <td>1294</td>\n",
       "      <td>0.030912</td>\n",
       "    </tr>\n",
       "    <tr>\n",
       "      <th>2</th>\n",
       "      <td>2019-08-03</td>\n",
       "      <td>A</td>\n",
       "      <td>66</td>\n",
       "      <td>60</td>\n",
       "      <td>5550.1</td>\n",
       "      <td>1845</td>\n",
       "      <td>0.035772</td>\n",
       "      <td>B</td>\n",
       "      <td>54</td>\n",
       "      <td>53</td>\n",
       "      <td>4606.9</td>\n",
       "      <td>1803</td>\n",
       "      <td>0.029950</td>\n",
       "    </tr>\n",
       "  </tbody>\n",
       "</table>\n",
       "</div>"
      ],
      "text/plain": [
       "        date groupA  ordersA  buyersA  revenueA  visitorsA  conversionA  \\\n",
       "0 2019-08-01      A       23       19    2266.6        719     0.031989   \n",
       "1 2019-08-02      A       42       36    3734.9       1338     0.031390   \n",
       "2 2019-08-03      A       66       60    5550.1       1845     0.035772   \n",
       "\n",
       "  groupB  ordersB  buyersB  revenueB  visitorsB  conversionB  \n",
       "0      B       17       17     967.2        713     0.023843  \n",
       "1      B       40       39    3535.3       1294     0.030912  \n",
       "2      B       54       53    4606.9       1803     0.029950  "
      ]
     },
     "execution_count": 38,
     "metadata": {},
     "output_type": "execute_result"
    }
   ],
   "source": [
    "# merging cumulative data of A & B groups\n",
    "\n",
    "mergedCumulativeCR = cumulativeDataA.\\\n",
    "merge(cumulativeDataB, left_on='date', right_on='date', how='left', suffixes=['A', 'B'])\n",
    "\n",
    "mergedCumulativeCR.head(3)"
   ]
  },
  {
   "cell_type": "code",
   "execution_count": 41,
   "metadata": {},
   "outputs": [
    {
     "data": {
      "image/png": "[encoded data removed]",
      "text/plain": [
       "<Figure size 900x900 with 1 Axes>"
      ]
     },
     "metadata": {},
     "output_type": "display_data"
    }
   ],
   "source": [
    "# plotting a relative difference graph  - conversion rates\n",
    "\n",
    "plt.plot(mergedCumulativeCR['date'], (mergedCumulativeCR['ordersB']/mergedCumulativeCR['visitorsB'])/\\\n",
    "         (mergedCumulativeCR['ordersA']/mergedCumulativeCR['visitorsA'])-1)\n",
    "\n",
    "# adding the X axis\n",
    "\n",
    "plt.axhline(y=0, color='black', linestyle='--')\n",
    "plt.title('Relative Difference: conversion rates', fontsize='large', fontweight='bold')\n",
    "plt.ylabel('Relative Difference', fontsize='medium', fontweight='bold')\n",
    "plt.xlabel('Date', fontsize='medium', fontweight='bold')\n",
    "plt.xticks(color='blue', rotation=45)\n",
    "plt.yticks(color='black')\n",
    "plt.grid()\n",
    "plt.show()"
   ]
  },
  {
   "cell_type": "markdown",
   "metadata": {},
   "source": [
    "#### Conclusion\n",
    "\n",
    "As seen in the conversion ratio comparison graph, group A has a larger conversion ratio than group B for the first six days of the experiment (approximately).\n",
    "\n",
    "Beginning on the sixth day of the experiment, the pattern changes and group B's conversion ratio overtakes group A's conversion ratio. From this point on until the completion of the trial, group B continues to show the strongest pattern.\n",
    "\n",
    "On the first day of the test, the difference in conversion ratio between the groups is at its greatest.\n",
    "\n",
    "Group B ends the test period with a higher conversion rate than Group A."
   ]
  },
  {
   "cell_type": "code",
   "execution_count": 43,
   "metadata": {},
   "outputs": [
    {
     "data": {
      "text/html": [
       "<div>\n",
       "<style scoped>\n",
       "    .dataframe tbody tr th:only-of-type {\n",
       "        vertical-align: middle;\n",
       "    }\n",
       "\n",
       "    .dataframe tbody tr th {\n",
       "        vertical-align: top;\n",
       "    }\n",
       "\n",
       "    .dataframe thead th {\n",
       "        text-align: right;\n",
       "    }\n",
       "</style>\n",
       "<table border=\"1\" class=\"dataframe\">\n",
       "  <thead>\n",
       "    <tr style=\"text-align: right;\">\n",
       "      <th></th>\n",
       "      <th>transactionId</th>\n",
       "      <th>orders</th>\n",
       "    </tr>\n",
       "  </thead>\n",
       "  <tbody>\n",
       "    <tr>\n",
       "      <th>908</th>\n",
       "      <td>3967698036</td>\n",
       "      <td>3</td>\n",
       "    </tr>\n",
       "    <tr>\n",
       "      <th>55</th>\n",
       "      <td>249864742</td>\n",
       "      <td>3</td>\n",
       "    </tr>\n",
       "    <tr>\n",
       "      <th>478</th>\n",
       "      <td>2108163459</td>\n",
       "      <td>3</td>\n",
       "    </tr>\n",
       "  </tbody>\n",
       "</table>\n",
       "</div>"
      ],
      "text/plain": [
       "     transactionId  orders\n",
       "908     3967698036       3\n",
       "55       249864742       3\n",
       "478     2108163459       3"
      ]
     },
     "metadata": {},
     "output_type": "display_data"
    }
   ],
   "source": [
    "# setting a frame with orders&transactionId's\n",
    "\n",
    "ordersByUsers = (\n",
    "    orders.drop(['group', 'revenue', 'date'], axis=1)\n",
    "    .groupby('visitorId', as_index=False)\n",
    "    .agg({'transactionId': pd.Series.nunique})\n",
    ")\n",
    "ordersByUsers.columns=['transactionId','orders']\n",
    "display(ordersByUsers.sort_values(by='orders', ascending=False).head(3))"
   ]
  },
  {
   "cell_type": "markdown",
   "metadata": {},
   "source": [
    "#### Orders Per User:"
   ]
  },
  {
   "cell_type": "markdown",
   "metadata": {},
   "source": [
    "<a id=\"25\"></a>"
   ]
  },
  {
   "cell_type": "code",
   "execution_count": 44,
   "metadata": {},
   "outputs": [
    {
     "data": {
      "image/png": "[encoded data removed]",
      "text/plain": [
       "<Figure size 900x900 with 1 Axes>"
      ]
     },
     "metadata": {},
     "output_type": "display_data"
    }
   ],
   "source": [
    "# Plotting a bar chart of the number of orders per user:\n",
    "\n",
    "plt.hist(ordersByUsers['orders'])\n",
    "plt.title('orders per user', fontsize='large', fontweight='bold')\n",
    "plt.ylabel('Customers', fontsize='medium', fontweight='bold')\n",
    "plt.xlabel('Orders', fontsize='medium', fontweight='bold')\n",
    "plt.show()"
   ]
  },
  {
   "cell_type": "code",
   "execution_count": 45,
   "metadata": {},
   "outputs": [
    {
     "data": {
      "image/png": "[encoded data removed]",
      "text/plain": [
       "<Figure size 900x900 with 1 Axes>"
      ]
     },
     "metadata": {},
     "output_type": "display_data"
    }
   ],
   "source": [
    "# Plotting a scatter chart of the number of orders per user:\n",
    "\n",
    "x_values = pd.Series(range(0,len(ordersByUsers)))\n",
    "\n",
    "plt.scatter(x_values, ordersByUsers['orders'])\n",
    "plt.title('Orders Per User', color='green', fontsize='xx-large', fontweight='bold')\n",
    "plt.ylabel('Orders', color='orange', fontsize='large', fontweight='bold')\n",
    "plt.xlabel('Customers', color='red', fontsize='large', fontweight='bold')\n",
    "plt.show()"
   ]
  },
  {
   "cell_type": "markdown",
   "metadata": {},
   "source": [
    "#__Calculate the 95th and 99th percentiles for the number of orders per user. Define the point at which a data point becomes an anomaly.__"
   ]
  },
  {
   "cell_type": "code",
   "execution_count": 105,
   "metadata": {},
   "outputs": [
    {
     "name": "stdout",
     "output_type": "stream",
     "text": [
      "[1. 2.]\n"
     ]
    }
   ],
   "source": [
    "# Calculating the 95th & 99th percentiles of the number of orders per user\n",
    "## more than 5% of the customers placed more than 1 orders & at least 1% of the customers placed more than 2 orders.\n",
    "### the majority of users are placing 1 order.\n",
    "\n",
    "print(np.percentile(ordersByUsers['orders'], [95, 99])) "
   ]
  },
  {
   "cell_type": "markdown",
   "metadata": {},
   "source": [
    "#### Conclusion\n",
    "\n",
    "1 . The majority of users are placing 1 order.\n",
    "\n",
    "2 . 5% of the customers placed more than 1 orders.\n",
    "\n",
    "3 . 1% of the customers placed more than 2 orders.\n",
    "\n",
    "4 . customers who placed 2 orders and more may be considered as anomaly."
   ]
  },
  {
   "cell_type": "code",
   "execution_count": 47,
   "metadata": {},
   "outputs": [
    {
     "data": {
      "image/png": "[encoded data removed]",
      "text/plain": [
       "<Figure size 900x900 with 1 Axes>"
      ]
     },
     "metadata": {},
     "output_type": "display_data"
    }
   ],
   "source": [
    "# plotting a bar-chart of the distribution of customers on revenue:\n",
    "\n",
    "plt.hist(orders['revenue'])\n",
    "plt.title('Revenues', color='green', fontsize='xx-large', fontweight='bold')\n",
    "plt.ylabel('Customers', color='orange', fontsize='large', fontweight='bold')\n",
    "plt.xlabel('price', color='red', fontsize='large', fontweight='bold')\n",
    "plt.show()"
   ]
  },
  {
   "cell_type": "markdown",
   "metadata": {},
   "source": [
    "#### Order Price Distribution:"
   ]
  },
  {
   "cell_type": "markdown",
   "metadata": {},
   "source": [
    "<a id=\"26\"></a>"
   ]
  },
  {
   "cell_type": "code",
   "execution_count": 59,
   "metadata": {},
   "outputs": [
    {
     "data": {
      "image/png": "[encoded data removed]",
      "text/plain": [
       "<Figure size 900x900 with 1 Axes>"
      ]
     },
     "metadata": {},
     "output_type": "display_data"
    }
   ],
   "source": [
    "x_values = pd.Series(range(0,len(orders['revenue'])))\n",
    "\n",
    "# plotting a scatter plot for order prices\n",
    "## please notice the change in the axis labels: Here i'm setting 'Price' as Y\n",
    "### This time i've been adding a Grid, makeing visualization more informative (for my taste, of course)\n",
    "\n",
    "plt.scatter(x_values, orders['revenue'])\n",
    "plt.grid(color='black', which='major', axis='both')\n",
    "plt.title('Orders Prices', color='green', fontsize='xx-large', fontweight='bold')\n",
    "plt.ylabel('Price', color='orange', fontsize='large', fontweight='bold')\n",
    "plt.xlabel('Customers', color='red', fontsize='large', fontweight='bold')\n",
    "plt.show()"
   ]
  },
  {
   "cell_type": "code",
   "execution_count": 106,
   "metadata": {},
   "outputs": [
    {
     "data": {
      "text/plain": [
       "130.77086614173223"
      ]
     },
     "metadata": {},
     "output_type": "display_data"
    },
    {
     "data": {
      "text/plain": [
       "0    20.2\n",
       "Name: revenue, dtype: float64"
      ]
     },
     "metadata": {},
     "output_type": "display_data"
    }
   ],
   "source": [
    "# overall revenue mean\n",
    "\n",
    "display(orders.revenue.mean())\n",
    "\n",
    "# most frequent value of revenue\n",
    "\n",
    "display(orders.revenue.mode())"
   ]
  },
  {
   "cell_type": "code",
   "execution_count": 63,
   "metadata": {},
   "outputs": [
    {
     "data": {
      "text/plain": [
       "array([414.275, 830.3  ])"
      ]
     },
     "metadata": {},
     "output_type": "display_data"
    }
   ],
   "source": [
    "# Calculating the 95th and 99th percentiles of order prices\n",
    "\n",
    "# more than 5% of users placed orders that cost more than 435.54$.\n",
    "\n",
    "# not more than 1% of users placed orders that cost more than 900.90$.\n",
    "\n",
    "display(np.percentile(orders['revenue'], [95, 99]))"
   ]
  },
  {
   "cell_type": "markdown",
   "metadata": {},
   "source": [
    "#### Conclusion\n",
    "\n",
    "   The average price graph demonstrates:\n",
    "   \n",
    "1 . The vast majority of clients placed orders for the common $20 amount.\n",
    "\n",
    "2 . More than 5% of consumers made purchases totaling $435.54 or more.\n",
    "\n",
    "3 . Less than 1% of users made purchases totaling more than $900.90.\n",
    "\n",
    "4 . Customers who ordered at 414.275$ and more might be considered as unusual customers or anomally data."
   ]
  },
  {
   "cell_type": "markdown",
   "metadata": {},
   "source": [
    "#### Raw Data Comparison: Statistical Significance of Conversion Difference between Groups"
   ]
  },
  {
   "cell_type": "markdown",
   "metadata": {},
   "source": [
    "<a id=\"27\" ></a>"
   ]
  },
  {
   "cell_type": "code",
   "execution_count": 64,
   "metadata": {},
   "outputs": [
    {
     "data": {
      "text/plain": [
       "'Trials:'"
      ]
     },
     "metadata": {},
     "output_type": "display_data"
    },
    {
     "data": {
      "text/plain": [
       "305673"
      ]
     },
     "metadata": {},
     "output_type": "display_data"
    },
    {
     "data": {
      "text/plain": [
       "'Successes:'"
      ]
     },
     "metadata": {},
     "output_type": "display_data"
    },
    {
     "data": {
      "text/plain": [
       "7469"
      ]
     },
     "metadata": {},
     "output_type": "display_data"
    }
   ],
   "source": [
    "# total conversion check\n",
    "# creating slices of trials & successes\n",
    "\n",
    "cumulativeDataA_trials=cumulativeDataA['visitors'].sum()\n",
    "display('Trials:', cumulativeDataA_trials)\n",
    "\n",
    "cumulativeDataA_successes=cumulativeDataA['buyers'].sum()\n",
    "display('Successes:', cumulativeDataA_successes)"
   ]
  },
  {
   "cell_type": "code",
   "execution_count": 65,
   "metadata": {},
   "outputs": [
    {
     "data": {
      "text/plain": [
       "'Trials:'"
      ]
     },
     "metadata": {},
     "output_type": "display_data"
    },
    {
     "data": {
      "text/plain": [
       "307092"
      ]
     },
     "metadata": {},
     "output_type": "display_data"
    },
    {
     "data": {
      "text/plain": [
       "'Successes:'"
      ]
     },
     "metadata": {},
     "output_type": "display_data"
    },
    {
     "data": {
      "text/plain": [
       "8782"
      ]
     },
     "metadata": {},
     "output_type": "display_data"
    }
   ],
   "source": [
    "cumulativeDataB_trials=cumulativeDataB['visitors'].sum()\n",
    "display('Trials:', cumulativeDataB_trials)\n",
    "\n",
    "cumulativeDataB_successes=cumulativeDataB['buyers'].sum()\n",
    "display('Successes:', cumulativeDataB_successes)"
   ]
  },
  {
   "cell_type": "code",
   "execution_count": 67,
   "metadata": {},
   "outputs": [],
   "source": [
    "## Writing a function that would check rather the proportion are equal:\n",
    "\n",
    "# H0: The proportions of A & B's groups are equal\n",
    "# H1: The proportion of A & B's groups are not equal\n",
    "## alpha=0.05\n",
    "\n",
    "def check_hypothses(successes1,trials1, successes2,trials2, alpha=0.05):\n",
    "    \"\"\"\n",
    "    This function tests the equality of proportions between two groups \n",
    "    based on the success and attempt rates provided for each group. \n",
    "    The function performs a hypothesis test to determine if there is a significant\n",
    "    difference between the proportions in the two groups.\n",
    "    \n",
    "    Parameters:\n",
    "    - successes1 (int): The number of successes in the first group.\n",
    "    - trials1 (int): The number of trials attempted in the first group.\n",
    "    - successes2 (int): The number of successes in the second group.\n",
    "    - trials2 (int): The number of trials attempted in the second group.\n",
    "    - alpha (float): The level of significance for the hypothesis test. \n",
    "      This parameter is selectable and applied when the function is called..\n",
    "    \"\"\"\n",
    "    # proportion of success in the first group\n",
    "    \n",
    "    p1=successes1/trials1\n",
    "    \n",
    "    # proportion of success in the seconed group\n",
    "    \n",
    "    p2=successes2/trials2\n",
    "    p_combined = (successes1 + successes2) / (trials1+trials2)\n",
    "    \n",
    "    difference = p1 - p2\n",
    "    \n",
    "    z_value = difference / mth.sqrt(p_combined * (1 - p_combined) * (1/trials1 + 1/trials2))\n",
    "    \n",
    "    distr=stats.norm(0, 1)\n",
    "    \n",
    "    p_value = (1 - distr.cdf(abs(z_value))) * 2\n",
    "    \n",
    "    print('p-value: ', \"{:.3f}\".format(p_value))\n",
    "    print('difference:', difference)\n",
    "    print('z-value:',  z_value)\n",
    "    \n",
    "    if (p_value < alpha):\n",
    "        print(\"Rejecting the null hypothesis: there is a significant difference between the proportions\")\n",
    "    else:\n",
    "        print(\"Failed to reject the null hypothesis: there is no reason to consider the proportions different\")"
   ]
  },
  {
   "cell_type": "code",
   "execution_count": 69,
   "metadata": {},
   "outputs": [
    {
     "name": "stdout",
     "output_type": "stream",
     "text": [
      "p-value:  0.000\n",
      "difference: -0.00416268509413642\n",
      "z-value: -10.139883353068885\n",
      "Rejecting the null hypothesis: there is a significant difference between the proportions\n"
     ]
    }
   ],
   "source": [
    "# runing a test of proportions:\n",
    "\n",
    "check_hypothses(cumulativeDataA_successes,cumulativeDataA_trials, cumulativeDataB_successes,\\\n",
    "                cumulativeDataB_trials, alpha=0.05)"
   ]
  },
  {
   "cell_type": "markdown",
   "metadata": {},
   "source": [
    "#### Filtered Data Comparison: Statistical Significance of Conversion Difference between Groups"
   ]
  },
  {
   "cell_type": "markdown",
   "metadata": {},
   "source": [
    "<a id=\"28\"></a>"
   ]
  },
  {
   "cell_type": "code",
   "execution_count": 70,
   "metadata": {},
   "outputs": [],
   "source": [
    "# Here i'm subsetting orders by groups counting unique ID's in order to filter out users who made placed expenssive orders\n",
    "# /placed more than one order:\n",
    "\n",
    "alpha=0.05\n",
    "\n",
    "ordersByUsersA = orders[orders['group']=='A'].groupby('visitorId', as_index=False).\\\n",
    "agg({'transactionId' : pd.Series.nunique})\n",
    "\n",
    "ordersByUsersA.columns = ['visitorid', 'transactionid']\n",
    "\n",
    "ordersByUsersB = orders[orders['group']=='B'].groupby('visitorId', as_index=False).\\\n",
    "agg({'transactionId' : pd.Series.nunique})\n",
    "\n",
    "ordersByUsersB.columns = ['visitorid', 'transactionid']"
   ]
  },
  {
   "cell_type": "code",
   "execution_count": 71,
   "metadata": {},
   "outputs": [
    {
     "name": "stdout",
     "output_type": "stream",
     "text": [
      "568     113298937\n",
      "1099    148427295\n",
      "928     204675465\n",
      "dtype: int64\n",
      "(86,)\n"
     ]
    }
   ],
   "source": [
    "# Here im creating two subsets of outliers \n",
    "## This lists would serve as data sets wich contain user's ID's that i don't need.\n",
    "### I would use them later on when filtering - by using opreator 'NOT' ('~') & isin() method.\n",
    "\n",
    "usersWithManyOrders = pd.concat([ordersByUsersA[ordersByUsersA['transactionid'] > 1]['visitorid'], \n",
    "                                 ordersByUsersB[ordersByUsersB['transactionid'] > 1]['visitorid']], axis=0)\n",
    "\n",
    "usersWithExpensiveOrders = orders[orders['revenue'] > 414.275]['visitorId']\n",
    "abnormalUsers = pd.concat([usersWithManyOrders, usersWithExpensiveOrders], axis = 0).\\\n",
    "drop_duplicates().sort_values()\n",
    "\n",
    "print(abnormalUsers.head(3))\n",
    "\n",
    "print(abnormalUsers.shape)"
   ]
  },
  {
   "cell_type": "markdown",
   "metadata": {},
   "source": [
    "#### Proportion Equality Test:"
   ]
  },
  {
   "cell_type": "markdown",
   "metadata": {},
   "source": [
    "<a id=\"29\"></a>"
   ]
  },
  {
   "cell_type": "code",
   "execution_count": 72,
   "metadata": {},
   "outputs": [
    {
     "data": {
      "text/plain": [
       "'Relative Gain: '"
      ]
     },
     "metadata": {},
     "output_type": "display_data"
    },
    {
     "data": {
      "text/plain": [
       "'0.174'"
      ]
     },
     "metadata": {},
     "output_type": "display_data"
    },
    {
     "data": {
      "text/plain": [
       "'p-value: '"
      ]
     },
     "metadata": {},
     "output_type": "display_data"
    },
    {
     "data": {
      "text/plain": [
       "'0.016'"
      ]
     },
     "metadata": {},
     "output_type": "display_data"
    },
    {
     "data": {
      "text/plain": [
       "'We reject the null hypothese'"
      ]
     },
     "metadata": {},
     "output_type": "display_data"
    }
   ],
   "source": [
    "# Testing rather the proportions are equal\n",
    "\n",
    "sampleAFiltered=pd.concat([ordersByUsersA[np.logical_not(ordersByUsersA['visitorid'].isin(abnormalUsers))]\n",
    "                           ['transactionid'],pd.Series(0, index=np.arange(visits[visits['group']=='A']['visits'].sum()\n",
    "- len(ordersByUsersA['transactionid'])),name='transactionid')],axis=0)\n",
    "\n",
    "sampleBFiltered=pd.concat([ordersByUsersB[np.logical_not(ordersByUsersB['visitorid'].isin(abnormalUsers))]\n",
    "                           ['transactionid'],pd.Series(0, index=np.arange(visits[visits['group']=='B']['visits'].sum()\n",
    "- len(ordersByUsersB['transactionid'])),name='transactionid')],axis=0)\n",
    "\n",
    "display('Relative Gain: ', \"{0:.3f}\".format(sampleBFiltered.mean()/sampleAFiltered.mean()-1))\n",
    "\n",
    "# using mannwhitney test\n",
    "\n",
    "result = stats.mannwhitneyu(sampleAFiltered, sampleBFiltered)[1]\n",
    "display(\"p-value: \", \"{0:.3f}\".format(result))\n",
    "\n",
    "if (result < alpha):\n",
    "    display(\"We reject the null hypothese\")\n",
    "else:\n",
    "    display(\"We can't reject the null hypothese\")"
   ]
  },
  {
   "cell_type": "markdown",
   "metadata": {},
   "source": [
    "#### Conclusion:\n",
    "\n",
    "Based on the results of the proportion test, we reject the null hypothesis: the conversion rates of the two populations are not equal."
   ]
  },
  {
   "cell_type": "markdown",
   "metadata": {},
   "source": [
    "####  Daily Conversion Equality Test"
   ]
  },
  {
   "cell_type": "markdown",
   "metadata": {},
   "source": [
    "<a id=\"30\"></a>"
   ]
  },
  {
   "cell_type": "code",
   "execution_count": 73,
   "metadata": {},
   "outputs": [
    {
     "data": {
      "image/png": "[encoded data removed]",
      "text/plain": [
       "<Figure size 900x900 with 1 Axes>"
      ]
     },
     "metadata": {},
     "output_type": "display_data"
    }
   ],
   "source": [
    "from matplotlib import pyplot # had to import matplotlib again, otherwise the visualization won't work\n",
    "\n",
    "# plotting the Histogram of daily conversion , using the raw data\n",
    "\n",
    "pyplot.hist(cumulativeDataA['conversion'], alpha=0.5, label='A')\n",
    "pyplot.hist(cumulativeDataB['conversion'], alpha=0.5, label='B')\n",
    "plt.title('Conversion by day', color='green', fontsize='xx-large', fontweight='bold')\n",
    "plt.ylabel('Days', color='orange', fontsize='large', fontweight='bold')\n",
    "plt.xlabel('Conversion', color='red', fontsize='large', fontweight='bold')\n",
    "pyplot.legend(loc='upper right')\n",
    "pyplot.show()"
   ]
  },
  {
   "cell_type": "code",
   "execution_count": 74,
   "metadata": {},
   "outputs": [
    {
     "data": {
      "text/plain": [
       "'Group A daily conversion distribution is positively distorted'"
      ]
     },
     "metadata": {},
     "output_type": "display_data"
    },
    {
     "data": {
      "text/plain": [
       "'Group B daily conversion distribution is negatively distorted'"
      ]
     },
     "metadata": {},
     "output_type": "display_data"
    }
   ],
   "source": [
    "# Here I wanted to demonstrate the distortion of the data from a statistical point of view:\n",
    "\n",
    "# positive skew for group A: the mean > median\n",
    "if cumulativeDataA['conversion'].mean() < cumulativeDataA['conversion'].median():\n",
    "    display('Group A daily conversion distribution is negatively distorted')\n",
    "if cumulativeDataA['conversion'].mean() > cumulativeDataA['conversion'].median():\n",
    "    display('Group A daily conversion distribution is positively distorted')\n",
    "\n",
    "# negative skew for group B: the mean < median\n",
    "if cumulativeDataB['conversion'].mean() < cumulativeDataB['conversion'].median():\n",
    "    display('Group B daily conversion distribution is negatively distorted')\n",
    "if cumulativeDataB['conversion'].mean() > cumulativeDataB['conversion'].median():\n",
    "    display('Group B daily conversion distribution is positively distorted')"
   ]
  },
  {
   "cell_type": "code",
   "execution_count": 75,
   "metadata": {},
   "outputs": [],
   "source": [
    "# Defining H0,H1:\n",
    "# H0: \"The daily conversion of the two populations are the same\"\n",
    "# H1: \"The daily conversion of the two populations are not the same\"\n",
    "\n",
    "def testing_average(sample1,sample2,alpha=0.05):\n",
    "    \"\"\"\n",
    "    This function is designed to perform a statistical hypothesis test to compare two samples. \n",
    "    The function is reusable and can be used to select the appropriate test based on the normality assumption of the data.\n",
    "    The function first checks for normality assumption by performing the Shapiro-Wilk test on each sample. \n",
    "    If the results of the Shapiro-Wilk tests for both samples together are greater than the specified \n",
    "    significance level (alpha), it is assumed that both samples are normally distributed, and a two-sample\n",
    "    t-test is performed, considering two scenarios of equal variance. \n",
    "    If one or both of the samples do not follow a normal distribution, the function performs the Mann-Whitney test.\n",
    "    \n",
    "    Parameters:\n",
    "\n",
    "    sample1 (str): The name of the first sample, which should be provided as a list or Pandas Series object.\n",
    "    sample2 (str): The name of the second sample, which should be provided as a list or Pandas Series object.\n",
    "    alpha (float): The significance level to be used in the hypothesis test.\n",
    "    \n",
    "    Returns:\n",
    "\n",
    "    p-value: The p-value obtained from the hypothesis test.\n",
    "    Conclusion: A statement indicating whether the null hypothesis is accepted or rejected based on the p-value\n",
    "                and the specified significance level.\n",
    "    \"\"\"\n",
    "    #checking normality\n",
    "    sample1=sample1.dropna()\n",
    "    sample2=sample2.dropna()\n",
    "    stat1, p1_norm=stats.shapiro(sample1)\n",
    "    stat2, p2_norm=stats.shapiro(sample2)\n",
    "    if p1_norm > alpha and p2_norm>alpha:\n",
    "        #then both normal, perform t-test.\n",
    "        #for t-test also should check the equality of variances\n",
    "        statslev,p_levene=stats.levene(sample1, sample2)\n",
    "        if p_levene<alpha:\n",
    "           #variances are not equal\n",
    "            statist,p_value=stats.ttest_ind(sample1, sample2,equal_var=False)\n",
    "        else:\n",
    "            statist,p_value=stats.ttest_ind(sample1, sample2,equal_var=True) \n",
    "    else:\n",
    "        statist,p_value=stats.mannwhitneyu(sample1, sample2)\n",
    "    print(p_value)\n",
    "    if p_value<alpha:\n",
    "        print('Reject H0')\n",
    "    else:\n",
    "        print('Failed to Reject H0')"
   ]
  },
  {
   "cell_type": "code",
   "execution_count": 77,
   "metadata": {},
   "outputs": [
    {
     "name": "stdout",
     "output_type": "stream",
     "text": [
      "1.4496661752238628e-05\n",
      "Reject H0\n"
     ]
    }
   ],
   "source": [
    "# checking the equality of the daily conversion by using the raw data:\n",
    "\n",
    "testing_average(cumulativeDataA['conversion'],cumulativeDataB['conversion'],alpha=0.05)"
   ]
  },
  {
   "cell_type": "code",
   "execution_count": 78,
   "metadata": {},
   "outputs": [
    {
     "data": {
      "text/html": [
       "<div>\n",
       "<style scoped>\n",
       "    .dataframe tbody tr th:only-of-type {\n",
       "        vertical-align: middle;\n",
       "    }\n",
       "\n",
       "    .dataframe tbody tr th {\n",
       "        vertical-align: top;\n",
       "    }\n",
       "\n",
       "    .dataframe thead th {\n",
       "        text-align: right;\n",
       "    }\n",
       "</style>\n",
       "<table border=\"1\" class=\"dataframe\">\n",
       "  <thead>\n",
       "    <tr style=\"text-align: right;\">\n",
       "      <th></th>\n",
       "      <th>transactionId</th>\n",
       "      <th>visitorId</th>\n",
       "      <th>date</th>\n",
       "      <th>revenue</th>\n",
       "      <th>group</th>\n",
       "    </tr>\n",
       "  </thead>\n",
       "  <tbody>\n",
       "    <tr>\n",
       "      <th>0</th>\n",
       "      <td>3667963787</td>\n",
       "      <td>3312258926</td>\n",
       "      <td>2019-08-15</td>\n",
       "      <td>30.4</td>\n",
       "      <td>B</td>\n",
       "    </tr>\n",
       "    <tr>\n",
       "      <th>1</th>\n",
       "      <td>2804400009</td>\n",
       "      <td>3642806036</td>\n",
       "      <td>2019-08-15</td>\n",
       "      <td>15.2</td>\n",
       "      <td>B</td>\n",
       "    </tr>\n",
       "    <tr>\n",
       "      <th>3</th>\n",
       "      <td>3797467345</td>\n",
       "      <td>1196621759</td>\n",
       "      <td>2019-08-15</td>\n",
       "      <td>155.1</td>\n",
       "      <td>B</td>\n",
       "    </tr>\n",
       "    <tr>\n",
       "      <th>4</th>\n",
       "      <td>2282983706</td>\n",
       "      <td>2322279887</td>\n",
       "      <td>2019-08-15</td>\n",
       "      <td>40.5</td>\n",
       "      <td>B</td>\n",
       "    </tr>\n",
       "    <tr>\n",
       "      <th>5</th>\n",
       "      <td>182168103</td>\n",
       "      <td>935554773</td>\n",
       "      <td>2019-08-15</td>\n",
       "      <td>35.0</td>\n",
       "      <td>B</td>\n",
       "    </tr>\n",
       "  </tbody>\n",
       "</table>\n",
       "</div>"
      ],
      "text/plain": [
       "   transactionId   visitorId       date  revenue group\n",
       "0     3667963787  3312258926 2019-08-15     30.4     B\n",
       "1     2804400009  3642806036 2019-08-15     15.2     B\n",
       "3     3797467345  1196621759 2019-08-15    155.1     B\n",
       "4     2282983706  2322279887 2019-08-15     40.5     B\n",
       "5      182168103   935554773 2019-08-15     35.0     B"
      ]
     },
     "execution_count": 78,
     "metadata": {},
     "output_type": "execute_result"
    }
   ],
   "source": [
    "# checking the equality of the daily conversion by using the filtered data:\n",
    "\n",
    "# Here i'm filtering my data by excluding users with many orders & users with expanssive orders.\n",
    "## i'm using operator 'not' in combined with isin(). the lists were created earlier.\n",
    "\n",
    "ordersFiltered=orders[~orders['visitorId'].isin(usersWithManyOrders)]\n",
    "ordersFiltered=orders[~orders['visitorId'].isin(usersWithExpensiveOrders)]\n",
    "ordersFiltered.head()"
   ]
  },
  {
   "cell_type": "code",
   "execution_count": 79,
   "metadata": {},
   "outputs": [
    {
     "data": {
      "text/html": [
       "<div>\n",
       "<style scoped>\n",
       "    .dataframe tbody tr th:only-of-type {\n",
       "        vertical-align: middle;\n",
       "    }\n",
       "\n",
       "    .dataframe tbody tr th {\n",
       "        vertical-align: top;\n",
       "    }\n",
       "\n",
       "    .dataframe thead th {\n",
       "        text-align: right;\n",
       "    }\n",
       "</style>\n",
       "<table border=\"1\" class=\"dataframe\">\n",
       "  <thead>\n",
       "    <tr style=\"text-align: right;\">\n",
       "      <th></th>\n",
       "      <th>date</th>\n",
       "      <th>group</th>\n",
       "    </tr>\n",
       "  </thead>\n",
       "  <tbody>\n",
       "    <tr>\n",
       "      <th>0</th>\n",
       "      <td>2019-08-15</td>\n",
       "      <td>B</td>\n",
       "    </tr>\n",
       "    <tr>\n",
       "      <th>7</th>\n",
       "      <td>2019-08-15</td>\n",
       "      <td>A</td>\n",
       "    </tr>\n",
       "    <tr>\n",
       "      <th>45</th>\n",
       "      <td>2019-08-16</td>\n",
       "      <td>A</td>\n",
       "    </tr>\n",
       "  </tbody>\n",
       "</table>\n",
       "</div>"
      ],
      "text/plain": [
       "         date group\n",
       "0  2019-08-15     B\n",
       "7  2019-08-15     A\n",
       "45 2019-08-16     A"
      ]
     },
     "metadata": {},
     "output_type": "display_data"
    }
   ],
   "source": [
    "datesGroupsFiltered = ordersFiltered[['date','group']].drop_duplicates() \n",
    "display(datesGroupsFiltered.head(3))"
   ]
  },
  {
   "cell_type": "code",
   "execution_count": 80,
   "metadata": {},
   "outputs": [
    {
     "data": {
      "text/html": [
       "<div>\n",
       "<style scoped>\n",
       "    .dataframe tbody tr th:only-of-type {\n",
       "        vertical-align: middle;\n",
       "    }\n",
       "\n",
       "    .dataframe tbody tr th {\n",
       "        vertical-align: top;\n",
       "    }\n",
       "\n",
       "    .dataframe thead th {\n",
       "        text-align: right;\n",
       "    }\n",
       "</style>\n",
       "<table border=\"1\" class=\"dataframe\">\n",
       "  <thead>\n",
       "    <tr style=\"text-align: right;\">\n",
       "      <th></th>\n",
       "      <th>date</th>\n",
       "      <th>group</th>\n",
       "      <th>transactionId</th>\n",
       "      <th>visitorId</th>\n",
       "      <th>revenue</th>\n",
       "    </tr>\n",
       "  </thead>\n",
       "  <tbody>\n",
       "    <tr>\n",
       "      <th>55</th>\n",
       "      <td>2019-08-01</td>\n",
       "      <td>A</td>\n",
       "      <td>21</td>\n",
       "      <td>17</td>\n",
       "      <td>1370.5</td>\n",
       "    </tr>\n",
       "    <tr>\n",
       "      <th>66</th>\n",
       "      <td>2019-08-01</td>\n",
       "      <td>B</td>\n",
       "      <td>17</td>\n",
       "      <td>17</td>\n",
       "      <td>967.2</td>\n",
       "    </tr>\n",
       "    <tr>\n",
       "      <th>175</th>\n",
       "      <td>2019-08-02</td>\n",
       "      <td>A</td>\n",
       "      <td>40</td>\n",
       "      <td>34</td>\n",
       "      <td>2838.8</td>\n",
       "    </tr>\n",
       "  </tbody>\n",
       "</table>\n",
       "</div>"
      ],
      "text/plain": [
       "          date group  transactionId  visitorId  revenue\n",
       "55  2019-08-01     A             21         17   1370.5\n",
       "66  2019-08-01     B             17         17    967.2\n",
       "175 2019-08-02     A             40         34   2838.8"
      ]
     },
     "metadata": {},
     "output_type": "display_data"
    }
   ],
   "source": [
    "ordersAggregatedFiltered = datesGroupsFiltered.apply(lambda x: ordersFiltered[np.logical_and(ordersFiltered['date'] <= x['date'],\n",
    "                                                                     ordersFiltered['group'] == x['group'])]\n",
    "                                     .agg({'date' : 'max', 'group' : 'max',\n",
    "                                           'transactionId' : pd.Series.nunique, 'visitorId' : pd.Series.nunique,\n",
    "                                           'revenue' : 'sum'}), axis=1).sort_values(by=['date','group'])\n",
    "display(ordersAggregatedFiltered.head(3))"
   ]
  },
  {
   "cell_type": "code",
   "execution_count": 81,
   "metadata": {},
   "outputs": [
    {
     "data": {
      "text/html": [
       "<div>\n",
       "<style scoped>\n",
       "    .dataframe tbody tr th:only-of-type {\n",
       "        vertical-align: middle;\n",
       "    }\n",
       "\n",
       "    .dataframe tbody tr th {\n",
       "        vertical-align: top;\n",
       "    }\n",
       "\n",
       "    .dataframe thead th {\n",
       "        text-align: right;\n",
       "    }\n",
       "</style>\n",
       "<table border=\"1\" class=\"dataframe\">\n",
       "  <thead>\n",
       "    <tr style=\"text-align: right;\">\n",
       "      <th></th>\n",
       "      <th>date</th>\n",
       "      <th>group</th>\n",
       "      <th>orders</th>\n",
       "      <th>buyers</th>\n",
       "      <th>revenue</th>\n",
       "      <th>visitors</th>\n",
       "    </tr>\n",
       "  </thead>\n",
       "  <tbody>\n",
       "    <tr>\n",
       "      <th>0</th>\n",
       "      <td>2019-08-01</td>\n",
       "      <td>A</td>\n",
       "      <td>21</td>\n",
       "      <td>17</td>\n",
       "      <td>1370.5</td>\n",
       "      <td>719</td>\n",
       "    </tr>\n",
       "    <tr>\n",
       "      <th>1</th>\n",
       "      <td>2019-08-01</td>\n",
       "      <td>B</td>\n",
       "      <td>17</td>\n",
       "      <td>17</td>\n",
       "      <td>967.2</td>\n",
       "      <td>713</td>\n",
       "    </tr>\n",
       "    <tr>\n",
       "      <th>2</th>\n",
       "      <td>2019-08-02</td>\n",
       "      <td>A</td>\n",
       "      <td>40</td>\n",
       "      <td>34</td>\n",
       "      <td>2838.8</td>\n",
       "      <td>1338</td>\n",
       "    </tr>\n",
       "    <tr>\n",
       "      <th>3</th>\n",
       "      <td>2019-08-02</td>\n",
       "      <td>B</td>\n",
       "      <td>38</td>\n",
       "      <td>37</td>\n",
       "      <td>2469.7</td>\n",
       "      <td>1294</td>\n",
       "    </tr>\n",
       "  </tbody>\n",
       "</table>\n",
       "</div>"
      ],
      "text/plain": [
       "        date group  orders  buyers  revenue  visitors\n",
       "0 2019-08-01     A      21      17   1370.5       719\n",
       "1 2019-08-01     B      17      17    967.2       713\n",
       "2 2019-08-02     A      40      34   2838.8      1338\n",
       "3 2019-08-02     B      38      37   2469.7      1294"
      ]
     },
     "metadata": {},
     "output_type": "display_data"
    }
   ],
   "source": [
    "cumulativeDataFiltered=ordersAggregatedFiltered.merge(visitorsAggregated, left_on=['date', 'group'], right_on=['date', 'group'])\n",
    "cumulativeDataFiltered.columns = ['date', 'group', 'orders', 'buyers', 'revenue', 'visitors']\n",
    "\n",
    "display(cumulativeDataFiltered.head(4))"
   ]
  },
  {
   "cell_type": "code",
   "execution_count": 82,
   "metadata": {},
   "outputs": [],
   "source": [
    "# calculating cumulative conversion using the filtered data\n",
    "\n",
    "cumulativeDataFiltered['conversion'] = cumulativeDataFiltered['orders']/cumulativeDataFiltered['visitors']\n",
    "\n",
    "# selecting data on group A\n",
    "\n",
    "cumulativeDataAFiltered = cumulativeDataFiltered[cumulativeDataFiltered['group']=='A']\n",
    "\n",
    "# selecting data on group B\n",
    "\n",
    "cumulativeDataBFiltered = cumulativeDataFiltered[cumulativeDataFiltered['group']=='B']"
   ]
  },
  {
   "cell_type": "raw",
   "metadata": {},
   "source": [
    "H0: The daily conversion rates of the two populations are equal\n",
    "H1: The daily conversion rates of the two populations are not equal"
   ]
  },
  {
   "cell_type": "code",
   "execution_count": 83,
   "metadata": {},
   "outputs": [
    {
     "name": "stdout",
     "output_type": "stream",
     "text": [
      "9.083854112715242e-05\n",
      "Reject H0\n"
     ]
    }
   ],
   "source": [
    "# passing the samples to the fuction\n",
    "\n",
    "testing_average(cumulativeDataAFiltered['conversion'],cumulativeDataBFiltered['conversion'],alpha=0.05)"
   ]
  },
  {
   "cell_type": "markdown",
   "metadata": {},
   "source": [
    "#### Average Check: "
   ]
  },
  {
   "cell_type": "markdown",
   "metadata": {},
   "source": [
    "<a id=\"31\"></a>"
   ]
  },
  {
   "cell_type": "code",
   "execution_count": 84,
   "metadata": {},
   "outputs": [],
   "source": [
    "# DataFrame with cumulative orders and cumulative revenue by day, group A - Filtered Data\n",
    "\n",
    "cumulativeRevenueAFiltered = cumulativeDataFiltered[cumulativeDataFiltered['group']=='A'][['date','revenue', 'orders']]\n",
    "\n",
    "# DataFrame with cumulative orders and cumulative revenue by day, group B - Filtered Data\n",
    "\n",
    "cumulativeRevenueBFiltered = cumulativeDataFiltered[cumulativeDataFiltered['group']=='B'][['date','revenue', 'orders']]\n",
    "\n",
    "\n",
    "pd.options.mode.chained_assignment = None # disabeling 'SettingWithCopyWarning'\n",
    "\n",
    "\n",
    "cumulativeRevenueAFiltered['avg_ch']=cumulativeRevenueAFiltered['revenue']/cumulativeRevenueAFiltered['orders']\n",
    "\n",
    "cumulativeRevenueBFiltered['avg_ch']=cumulativeRevenueBFiltered['revenue']/cumulativeRevenueBFiltered ['orders']\n",
    "\n",
    "cumulativeDataAFiltered['avg_ch']=cumulativeDataAFiltered['revenue']/cumulativeDataAFiltered['orders']\n",
    "\n",
    "cumulativeDataBFiltered['avg_ch']=cumulativeDataBFiltered['revenue']/cumulativeDataBFiltered['orders']"
   ]
  },
  {
   "cell_type": "code",
   "execution_count": 85,
   "metadata": {},
   "outputs": [],
   "source": [
    "# Testing the average check - raw data\n",
    "\n",
    "cumulativeRevenueA['avg_ch']=cumulativeRevenueA['revenue']/cumulativeRevenueA['orders']\n",
    "cumulativeRevenueB['avg_ch']=cumulativeRevenueB['revenue']/cumulativeRevenueB['orders']\n",
    "\n",
    "cumulativeDataA['avg_ch']=cumulativeDataA['revenue']/cumulativeDataA['orders']\n",
    "cumulativeDataB['avg_ch']=cumulativeDataB['revenue']/cumulativeDataB['orders']"
   ]
  },
  {
   "cell_type": "code",
   "execution_count": 86,
   "metadata": {},
   "outputs": [
    {
     "data": {
      "text/plain": [
       "74.80812393999884"
      ]
     },
     "metadata": {},
     "output_type": "display_data"
    },
    {
     "data": {
      "text/plain": [
       "72.80123243356623"
      ]
     },
     "metadata": {},
     "output_type": "display_data"
    }
   ],
   "source": [
    "# means of groups A&B - Filtered Data\n",
    "\n",
    "display(cumulativeRevenueAFiltered['avg_ch'].mean())\n",
    "display(cumulativeRevenueBFiltered['avg_ch'].mean())"
   ]
  },
  {
   "cell_type": "markdown",
   "metadata": {},
   "source": [
    "#### Filtered vs Raw Data Tests: Average Purchase Size"
   ]
  },
  {
   "cell_type": "markdown",
   "metadata": {},
   "source": [
    "<a id=\"32\"></a>"
   ]
  },
  {
   "cell_type": "code",
   "execution_count": 87,
   "metadata": {},
   "outputs": [
    {
     "name": "stdout",
     "output_type": "stream",
     "text": [
      "0.20014091620698737\n",
      "Failed to Reject H0\n"
     ]
    }
   ],
   "source": [
    "# testing average purchase sise using the filtered data\n",
    "\n",
    "# H0: The populations average check (;average purchase size) are equal.\n",
    "# H1: The populations average check (;average purchase size) are not equal.\n",
    "\n",
    "testing_average(cumulativeRevenueAFiltered['avg_ch'],cumulativeRevenueBFiltered['avg_ch'],alpha=0.05)"
   ]
  },
  {
   "cell_type": "code",
   "execution_count": 88,
   "metadata": {},
   "outputs": [
    {
     "data": {
      "text/plain": [
       "101.11552841801577"
      ]
     },
     "metadata": {},
     "output_type": "display_data"
    },
    {
     "data": {
      "text/plain": [
       "120.76430013945237"
      ]
     },
     "metadata": {},
     "output_type": "display_data"
    }
   ],
   "source": [
    "display(cumulativeRevenueA['avg_ch'].mean())\n",
    "display(cumulativeRevenueB['avg_ch'].mean())"
   ]
  },
  {
   "cell_type": "code",
   "execution_count": 89,
   "metadata": {},
   "outputs": [
    {
     "name": "stdout",
     "output_type": "stream",
     "text": [
      "0.16338441712343454\n",
      "Failed to Reject H0\n"
     ]
    }
   ],
   "source": [
    "# testing average using the raw data\n",
    "\n",
    "testing_average(cumulativeRevenueA['avg_ch'],cumulativeRevenueB['avg_ch'],alpha=0.05)"
   ]
  },
  {
   "cell_type": "markdown",
   "metadata": {},
   "source": [
    "<a id=\"33\"></a>"
   ]
  },
  {
   "cell_type": "markdown",
   "metadata": {},
   "source": [
    "# Final Conclusions\n",
    "\n",
    "__1__ . Two out of the nine hypotheses received a high priority rating from the ICE and RICE (combined) indices:\n",
    "    \n",
    "   __\"Include two new traffic-drawing channels. This will increase usership by 30%\"__\n",
    "    \n",
    "   __\"Include a sign-up form on each of the primary pages. You can build a mailing list with this.\"__\n",
    "   \n",
    "__2__ . I advise using the plan that received the highest rating in the ICE index: __\"adding a subscription form\".__\n",
    "\n",
    "   RICE, as opposed to ICE prioritization, considers the range of customers impacted by the modification. \n",
    "   actuality, this is the only significant distinction between the two ranking techniques.\n",
    "   \n",
    "   The hypothesis for adding a subscription form has the highest score and leads the other hypotheses by a wide margin:\n",
    "   112 points.\n",
    "   This is not surprising given that, among the high scores on the confidence & impact scales, \n",
    "   the hypothesis obtained the highest score on the \"reach\" scale. And on the other end of the effort scale, a moderate\n",
    "   effort is required.\n",
    "   \n",
    "__3__ . __Orders per users:__\n",
    "\n",
    "   The majority of users are placing 1 order.\n",
    "   \n",
    "   5% of the customers placed more than 2 orders.\n",
    "   \n",
    "   1% of the customers placed more than 4 orders.\n",
    "   \n",
    "__4__. __Average purchase size:__\n",
    "\n",
    "   The average purchase size is: 130.77$\n",
    "   \n",
    "   The most frequent price of order is: 20.2$\n",
    "   \n",
    "   The vast majority of clients placed orders for the common $20 amount.\n",
    "   \n",
    "   Customers who ordered at 414.275$ and more might be considered as unusual customers or anomally data.\n",
    "\n",
    "__5__. Based on the filtered data - the __overall conversion rates of the populations are not equal.__\n",
    "\n",
    "__6__. Examining the hypothesis that the __daily conversion rates are equal had showed that there is no equality__ between the conversion rates - the null hypothesis was rejected , both by using the raw & filtered data.\n",
    "\n",
    "__7__. Testing __average purchase size__ using  __filtered__ & __raw__data yielded a p-value higher than the significance level. That is, the __null hypothesis was not rejected__ - we have no reason to assume that the average purchase size between the two populations is not equal.\n",
    "\n",
    "__8__. The average purchase size tested using the __raw__ data also yielded a p-value higher than the significance level. Here too, the null hypothesis was not rejected - we have no reason to assume that the average purchase size between the two populations is not equal.\n",
    "\n",
    "Final Conclusion\n",
    "\n",
    "   The raw & filtered data revealed statistically significant differences in conversion by day between the groups.\n",
    "   \n",
    "   Neither raw nor filtered data revealed any statistically significant differences in average order size between the groups.\n",
    "   \n",
    "   __The groups are not equal in the conversion ratio, but we cannot rule out that they are not equal in average purchase size.__\n",
    "   \n",
    "   __Therefore, I state that since the conversion ratio is higher in group B and although the average purchase size may be the same, the experiment should be stopped and it should be determined that group B is the leading group. This group has a higher rate of visitors who become customers, so the experiment for this group is successful.__"
   ]
  }
 ],
 "metadata": {
  "kernelspec": {
   "display_name": "Python 3 (ipykernel)",
   "language": "python",
   "name": "python3"
  },
  "language_info": {
   "codemirror_mode": {
    "name": "ipython",
    "version": 3
   },
   "file_extension": ".py",
   "mimetype": "text/x-python",
   "name": "python",
   "nbconvert_exporter": "python",
   "pygments_lexer": "ipython3",
   "version": "3.9.13"
  },
  "toc": {
   "base_numbering": 1,
   "nav_menu": {},
   "number_sections": true,
   "sideBar": true,
   "skip_h1_title": true,
   "title_cell": "Table of Contents",
   "title_sidebar": "Contents",
   "toc_cell": false,
   "toc_position": {},
   "toc_section_display": true,
   "toc_window_display": false
  }
 },
 "nbformat": 4,
 "nbformat_minor": 2
}
